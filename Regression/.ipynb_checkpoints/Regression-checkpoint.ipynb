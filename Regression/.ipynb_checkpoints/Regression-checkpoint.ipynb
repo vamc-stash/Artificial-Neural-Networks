{
 "cells": [
  {
   "cell_type": "code",
   "execution_count": 1,
   "metadata": {},
   "outputs": [],
   "source": [
    "import numpy as np\n",
    "import pandas as pd\n",
    "%matplotlib inline\n",
    "import matplotlib as mpl\n",
    "import matplotlib.pyplot as plt"
   ]
  },
  {
   "cell_type": "code",
   "execution_count": 2,
   "metadata": {},
   "outputs": [],
   "source": [
    "import tensorflow as tf\n",
    "from tensorflow import keras"
   ]
  },
  {
   "cell_type": "markdown",
   "metadata": {},
   "source": [
    "\n",
    "<h3>California housing dataset</h3></br>\n",
    "    \n",
    "   Dataset documentation : \n",
    " https://scikit-learn.org/stable/modules/generated/sklearn.datasets.fetch_california_housing.html#examples-using-sklearn-datasets-fetch-california-housing"
   ]
  },
  {
   "cell_type": "code",
   "execution_count": 3,
   "metadata": {},
   "outputs": [],
   "source": [
    "from sklearn.datasets import fetch_california_housing\n",
    "housing = fetch_california_housing()"
   ]
  },
  {
   "cell_type": "code",
   "execution_count": 4,
   "metadata": {},
   "outputs": [
    {
     "name": "stdout",
     "output_type": "stream",
     "text": [
      "{'data': array([[   8.3252    ,   41.        ,    6.98412698, ...,    2.55555556,\n",
      "          37.88      , -122.23      ],\n",
      "       [   8.3014    ,   21.        ,    6.23813708, ...,    2.10984183,\n",
      "          37.86      , -122.22      ],\n",
      "       [   7.2574    ,   52.        ,    8.28813559, ...,    2.80225989,\n",
      "          37.85      , -122.24      ],\n",
      "       ...,\n",
      "       [   1.7       ,   17.        ,    5.20554273, ...,    2.3256351 ,\n",
      "          39.43      , -121.22      ],\n",
      "       [   1.8672    ,   18.        ,    5.32951289, ...,    2.12320917,\n",
      "          39.43      , -121.32      ],\n",
      "       [   2.3886    ,   16.        ,    5.25471698, ...,    2.61698113,\n",
      "          39.37      , -121.24      ]]), 'target': array([4.526, 3.585, 3.521, ..., 0.923, 0.847, 0.894]), 'feature_names': ['MedInc', 'HouseAge', 'AveRooms', 'AveBedrms', 'Population', 'AveOccup', 'Latitude', 'Longitude'], 'DESCR': '.. _california_housing_dataset:\\n\\nCalifornia Housing dataset\\n--------------------------\\n\\n**Data Set Characteristics:**\\n\\n    :Number of Instances: 20640\\n\\n    :Number of Attributes: 8 numeric, predictive attributes and the target\\n\\n    :Attribute Information:\\n        - MedInc        median income in block\\n        - HouseAge      median house age in block\\n        - AveRooms      average number of rooms\\n        - AveBedrms     average number of bedrooms\\n        - Population    block population\\n        - AveOccup      average house occupancy\\n        - Latitude      house block latitude\\n        - Longitude     house block longitude\\n\\n    :Missing Attribute Values: None\\n\\nThis dataset was obtained from the StatLib repository.\\nhttp://lib.stat.cmu.edu/datasets/\\n\\nThe target variable is the median house value for California districts.\\n\\nThis dataset was derived from the 1990 U.S. census, using one row per census\\nblock group. A block group is the smallest geographical unit for which the U.S.\\nCensus Bureau publishes sample data (a block group typically has a population\\nof 600 to 3,000 people).\\n\\nIt can be downloaded/loaded using the\\n:func:`sklearn.datasets.fetch_california_housing` function.\\n\\n.. topic:: References\\n\\n    - Pace, R. Kelley and Ronald Barry, Sparse Spatial Autoregressions,\\n      Statistics and Probability Letters, 33 (1997) 291-297\\n'}\n"
     ]
    }
   ],
   "source": [
    "print(housing)"
   ]
  },
  {
   "cell_type": "code",
   "execution_count": 5,
   "metadata": {},
   "outputs": [
    {
     "data": {
      "text/plain": [
       "['MedInc',\n",
       " 'HouseAge',\n",
       " 'AveRooms',\n",
       " 'AveBedrms',\n",
       " 'Population',\n",
       " 'AveOccup',\n",
       " 'Latitude',\n",
       " 'Longitude']"
      ]
     },
     "execution_count": 5,
     "metadata": {},
     "output_type": "execute_result"
    }
   ],
   "source": [
    "housing.feature_names"
   ]
  },
  {
   "cell_type": "code",
   "execution_count": 6,
   "metadata": {},
   "outputs": [],
   "source": [
    "from sklearn.model_selection import train_test_split\n",
    "x_temp,x_test,y_temp,y_test = train_test_split(housing.data,housing.target,test_size=0.2)\n",
    "x_train,x_valid,y_train,y_valid = train_test_split(x_temp,y_temp,test_size=0.2)"
   ]
  },
  {
   "cell_type": "code",
   "execution_count": 7,
   "metadata": {},
   "outputs": [
    {
     "name": "stdout",
     "output_type": "stream",
     "text": [
      "(13209, 8) (13209,)\n"
     ]
    }
   ],
   "source": [
    "print(x_train.shape,y_train.shape)"
   ]
  },
  {
   "cell_type": "code",
   "execution_count": 8,
   "metadata": {},
   "outputs": [
    {
     "name": "stdout",
     "output_type": "stream",
     "text": [
      "(3303, 8) (3303,)\n"
     ]
    }
   ],
   "source": [
    "print(x_valid.shape,y_valid.shape)"
   ]
  },
  {
   "cell_type": "markdown",
   "metadata": {},
   "source": [
    "<h4>Normalization of data</h4>\n",
    "\n",
    "https://scikit-learn.org/stable/modules/preprocessing.html"
   ]
  },
  {
   "cell_type": "code",
   "execution_count": 9,
   "metadata": {},
   "outputs": [],
   "source": [
    "from sklearn.preprocessing import StandardScaler\n",
    "scalar = StandardScaler()\n",
    "X_train = scalar.fit(x_train)\n",
    "X_train = scalar.transform(x_train)\n",
    "X_test = scalar.transform(x_test)\n",
    "X_valid = scalar.transform(x_valid)"
   ]
  },
  {
   "cell_type": "code",
   "execution_count": 10,
   "metadata": {},
   "outputs": [
    {
     "name": "stdout",
     "output_type": "stream",
     "text": [
      "[[ 1.12511218e+00 -5.25933209e-01 -2.27228867e-01 ...  1.62423743e-03\n",
      "  -8.31607691e-01  7.42317367e-01]\n",
      " [ 4.19288377e-01 -1.48004566e+00  1.76897209e-01 ...  4.00082277e-03\n",
      "   1.07446252e+00 -1.06444697e+00]\n",
      " [ 1.14258280e+00 -7.64461321e-01  6.95261145e-01 ... -4.74441741e-02\n",
      "   4.62464487e-01 -1.05945590e+00]\n",
      " ...\n",
      " [ 1.78383184e-01 -1.71857377e+00 -2.44321506e-01 ... -1.03255187e-01\n",
      "  -6.77440248e-01  4.87773221e-01]\n",
      " [-1.12623052e+00 -1.00298943e+00 -6.81781045e-01 ... -2.77790017e-02\n",
      "  -1.12592736e+00  1.17154867e+00]\n",
      " [-1.40245243e-01 -1.24151755e+00 -1.42796211e-02 ... -1.69731197e-02\n",
      "  -7.42844618e-01  9.31977711e-01]]\n"
     ]
    }
   ],
   "source": [
    "print(X_train)"
   ]
  },
  {
   "cell_type": "code",
   "execution_count": 11,
   "metadata": {},
   "outputs": [
    {
     "name": "stdout",
     "output_type": "stream",
     "text": [
      "[[-0.31468839  0.18965113 -0.64805576 ...  0.19144513 -0.88766858\n",
      "   0.83215648]\n",
      " [-1.03977197 -0.44642384 -0.34322909 ... -0.05484104  1.10249297\n",
      "  -0.86979556]\n",
      " [ 0.88252307  1.30278232  0.22866611 ... -0.05688591  0.89226463\n",
      "  -1.36890173]\n",
      " ...\n",
      " [ 3.41876325  0.34866987  1.00453229 ... -0.02734768 -0.69145547\n",
      "   0.53768384]\n",
      " [-0.29006112 -0.20789573 -0.15484421 ...  0.03429819 -0.88299684\n",
      "   1.67065484]\n",
      " [-0.22102058 -1.0824988  -0.01334635 ... -0.03357426 -0.82226421\n",
      "   0.98188833]]\n"
     ]
    }
   ],
   "source": [
    "print(X_test)"
   ]
  },
  {
   "cell_type": "code",
   "execution_count": 12,
   "metadata": {},
   "outputs": [],
   "source": [
    "np.random.seed(30)\n",
    "tf.random.set_seed(30)"
   ]
  },
  {
   "cell_type": "code",
   "execution_count": 13,
   "metadata": {},
   "outputs": [],
   "source": [
    "model = keras.models.Sequential()\n",
    "model.add(keras.layers.Dense(64,activation=\"relu\",input_shape=X_train.shape[1:]))\n",
    "model.add(keras.layers.Dense(32,activation=\"relu\"))\n",
    "model.add(keras.layers.Dense(1))"
   ]
  },
  {
   "cell_type": "code",
   "execution_count": 14,
   "metadata": {},
   "outputs": [
    {
     "name": "stdout",
     "output_type": "stream",
     "text": [
      "Model: \"sequential\"\n",
      "_________________________________________________________________\n",
      "Layer (type)                 Output Shape              Param #   \n",
      "=================================================================\n",
      "dense (Dense)                (None, 64)                576       \n",
      "_________________________________________________________________\n",
      "dense_1 (Dense)              (None, 32)                2080      \n",
      "_________________________________________________________________\n",
      "dense_2 (Dense)              (None, 1)                 33        \n",
      "=================================================================\n",
      "Total params: 2,689\n",
      "Trainable params: 2,689\n",
      "Non-trainable params: 0\n",
      "_________________________________________________________________\n"
     ]
    }
   ],
   "source": [
    "model.summary()"
   ]
  },
  {
   "cell_type": "code",
   "execution_count": 15,
   "metadata": {},
   "outputs": [],
   "source": [
    "model.compile(loss=\"mean_squared_error\",optimizer=keras.optimizers.SGD(lr=1e-3),metrics=['mae'])\n",
    "#lr -learning rate , mae - mean absolute error"
   ]
  },
  {
   "cell_type": "code",
   "execution_count": 16,
   "metadata": {},
   "outputs": [
    {
     "name": "stdout",
     "output_type": "stream",
     "text": [
      "Train on 13209 samples, validate on 3303 samples\n",
      "Epoch 1/40\n",
      "13209/13209 [==============================] - 5s 347us/sample - loss: 1.6719 - mae: 0.9361 - val_loss: 0.8007 - val_mae: 0.6641\n",
      "Epoch 2/40\n",
      "13209/13209 [==============================] - 4s 273us/sample - loss: 0.7394 - mae: 0.6352 - val_loss: 0.6820 - val_mae: 0.6026\n",
      "Epoch 3/40\n",
      "13209/13209 [==============================] - 3s 237us/sample - loss: 0.6627 - mae: 0.5933 - val_loss: 0.6309 - val_mae: 0.5741\n",
      "Epoch 4/40\n",
      "13209/13209 [==============================] - 4s 310us/sample - loss: 0.6172 - mae: 0.5694 - val_loss: 0.5945 - val_mae: 0.5573\n",
      "Epoch 5/40\n",
      "13209/13209 [==============================] - 3s 247us/sample - loss: 0.5845 - mae: 0.5534 - val_loss: 0.5666 - val_mae: 0.5437\n",
      "Epoch 6/40\n",
      "13209/13209 [==============================] - 3s 255us/sample - loss: 0.5589 - mae: 0.5408 - val_loss: 0.5448 - val_mae: 0.5265\n",
      "Epoch 7/40\n",
      "13209/13209 [==============================] - 4s 270us/sample - loss: 0.5385 - mae: 0.5288 - val_loss: 0.5265 - val_mae: 0.5196\n",
      "Epoch 8/40\n",
      "13209/13209 [==============================] - 4s 301us/sample - loss: 0.5219 - mae: 0.5210 - val_loss: 0.5113 - val_mae: 0.5159\n",
      "Epoch 9/40\n",
      "13209/13209 [==============================] - 3s 249us/sample - loss: 0.5082 - mae: 0.5143 - val_loss: 0.4981 - val_mae: 0.5038\n",
      "Epoch 10/40\n",
      "13209/13209 [==============================] - 3s 228us/sample - loss: 0.4967 - mae: 0.5073 - val_loss: 0.4876 - val_mae: 0.5004\n",
      "Epoch 11/40\n",
      "13209/13209 [==============================] - 4s 279us/sample - loss: 0.4873 - mae: 0.5031 - val_loss: 0.4773 - val_mae: 0.4974\n",
      "Epoch 12/40\n",
      "13209/13209 [==============================] - 4s 293us/sample - loss: 0.4789 - mae: 0.4990 - val_loss: 0.4695 - val_mae: 0.4905\n",
      "Epoch 13/40\n",
      "13209/13209 [==============================] - 4s 334us/sample - loss: 0.4718 - mae: 0.4952 - val_loss: 0.4629 - val_mae: 0.4866\n",
      "Epoch 14/40\n",
      "13209/13209 [==============================] - 4s 294us/sample - loss: 0.4659 - mae: 0.4925 - val_loss: 0.4571 - val_mae: 0.4844\n",
      "Epoch 15/40\n",
      "13209/13209 [==============================] - 4s 284us/sample - loss: 0.4605 - mae: 0.4892 - val_loss: 0.4511 - val_mae: 0.4839\n",
      "Epoch 16/40\n",
      "13209/13209 [==============================] - 4s 339us/sample - loss: 0.4558 - mae: 0.4876 - val_loss: 0.4468 - val_mae: 0.4783\n",
      "Epoch 17/40\n",
      "13209/13209 [==============================] - 3s 251us/sample - loss: 0.4516 - mae: 0.4852 - val_loss: 0.4424 - val_mae: 0.4770\n",
      "Epoch 18/40\n",
      "13209/13209 [==============================] - 4s 322us/sample - loss: 0.4476 - mae: 0.4824 - val_loss: 0.4388 - val_mae: 0.4756\n",
      "Epoch 19/40\n",
      "13209/13209 [==============================] - 5s 364us/sample - loss: 0.4438 - mae: 0.4804 - val_loss: 0.4353 - val_mae: 0.4779\n",
      "Epoch 20/40\n",
      "13209/13209 [==============================] - 5s 356us/sample - loss: 0.4408 - mae: 0.4788 - val_loss: 0.4327 - val_mae: 0.4737\n",
      "Epoch 21/40\n",
      "13209/13209 [==============================] - 5s 364us/sample - loss: 0.4377 - mae: 0.4771 - val_loss: 0.4291 - val_mae: 0.4731\n",
      "Epoch 22/40\n",
      "13209/13209 [==============================] - 5s 354us/sample - loss: 0.4350 - mae: 0.4757 - val_loss: 0.4262 - val_mae: 0.4671\n",
      "Epoch 23/40\n",
      "13209/13209 [==============================] - 5s 381us/sample - loss: 0.4322 - mae: 0.4735 - val_loss: 0.4238 - val_mae: 0.4684\n",
      "Epoch 24/40\n",
      "13209/13209 [==============================] - 4s 307us/sample - loss: 0.4298 - mae: 0.4723 - val_loss: 0.4212 - val_mae: 0.4649\n",
      "Epoch 25/40\n",
      "13209/13209 [==============================] - 4s 284us/sample - loss: 0.4274 - mae: 0.4710 - val_loss: 0.4192 - val_mae: 0.4631\n",
      "Epoch 26/40\n",
      "13209/13209 [==============================] - 3s 259us/sample - loss: 0.4250 - mae: 0.4691 - val_loss: 0.4175 - val_mae: 0.4597\n",
      "Epoch 27/40\n",
      "13209/13209 [==============================] - 4s 296us/sample - loss: 0.4230 - mae: 0.4678 - val_loss: 0.4151 - val_mae: 0.4602\n",
      "Epoch 28/40\n",
      "13209/13209 [==============================] - 4s 297us/sample - loss: 0.4209 - mae: 0.4663 - val_loss: 0.4129 - val_mae: 0.4632\n",
      "Epoch 29/40\n",
      "13209/13209 [==============================] - 5s 348us/sample - loss: 0.4189 - mae: 0.4657 - val_loss: 0.4110 - val_mae: 0.4554\n",
      "Epoch 30/40\n",
      "13209/13209 [==============================] - 4s 274us/sample - loss: 0.4168 - mae: 0.4631 - val_loss: 0.4091 - val_mae: 0.4571\n",
      "Epoch 31/40\n",
      "13209/13209 [==============================] - 4s 266us/sample - loss: 0.4151 - mae: 0.4629 - val_loss: 0.4075 - val_mae: 0.4538\n",
      "Epoch 32/40\n",
      "13209/13209 [==============================] - 3s 254us/sample - loss: 0.4134 - mae: 0.4613 - val_loss: 0.4046 - val_mae: 0.4537\n",
      "Epoch 33/40\n",
      "13209/13209 [==============================] - 4s 275us/sample - loss: 0.4114 - mae: 0.4598 - val_loss: 0.4034 - val_mae: 0.4528\n",
      "Epoch 34/40\n",
      "13209/13209 [==============================] - 3s 260us/sample - loss: 0.4099 - mae: 0.4590 - val_loss: 0.4021 - val_mae: 0.4524\n",
      "Epoch 35/40\n",
      "13209/13209 [==============================] - 4s 284us/sample - loss: 0.4083 - mae: 0.4576 - val_loss: 0.4004 - val_mae: 0.4538\n",
      "Epoch 36/40\n",
      "13209/13209 [==============================] - 3s 219us/sample - loss: 0.4065 - mae: 0.4568 - val_loss: 0.3993 - val_mae: 0.4492\n",
      "Epoch 37/40\n",
      "13209/13209 [==============================] - 3s 228us/sample - loss: 0.4049 - mae: 0.4553 - val_loss: 0.3970 - val_mae: 0.4499\n",
      "Epoch 38/40\n",
      "13209/13209 [==============================] - 3s 201us/sample - loss: 0.4033 - mae: 0.4536 - val_loss: 0.3962 - val_mae: 0.4523\n",
      "Epoch 39/40\n",
      "13209/13209 [==============================] - 4s 331us/sample - loss: 0.4019 - mae: 0.4532 - val_loss: 0.3936 - val_mae: 0.4476\n",
      "Epoch 40/40\n",
      "13209/13209 [==============================] - 4s 299us/sample - loss: 0.4003 - mae: 0.4522 - val_loss: 0.3930 - val_mae: 0.4469\n"
     ]
    }
   ],
   "source": [
    "model_history = model.fit(X_train,y_train,epochs=40,validation_data=(X_valid,y_valid))"
   ]
  },
  {
   "cell_type": "code",
   "execution_count": 17,
   "metadata": {},
   "outputs": [
    {
     "name": "stdout",
     "output_type": "stream",
     "text": [
      "4128/4128 [==============================] - 1s 272us/sample - loss: 0.3907 - mae: 0.4464\n"
     ]
    }
   ],
   "source": [
    "mae_test = model.evaluate(X_test,y_test)"
   ]
  },
  {
   "cell_type": "code",
   "execution_count": 18,
   "metadata": {},
   "outputs": [
    {
     "data": {
      "text/plain": [
       "{'loss': [1.6719002238021359,\n",
       "  0.7394326372099316,\n",
       "  0.6627139663956205,\n",
       "  0.6171983022667799,\n",
       "  0.5845321540766096,\n",
       "  0.5589259805005345,\n",
       "  0.5385120119083044,\n",
       "  0.5219076087251188,\n",
       "  0.5082336699881843,\n",
       "  0.4966676152080074,\n",
       "  0.4873341978232535,\n",
       "  0.47893638675457795,\n",
       "  0.4718311362014206,\n",
       "  0.46593603942348955,\n",
       "  0.4605372876201881,\n",
       "  0.45579768262323545,\n",
       "  0.45158434576383194,\n",
       "  0.44761605721760395,\n",
       "  0.44382224907186646,\n",
       "  0.44078504109429556,\n",
       "  0.43773056970915863,\n",
       "  0.43496459093712253,\n",
       "  0.43219508214554264,\n",
       "  0.42980366275622595,\n",
       "  0.4274405025668288,\n",
       "  0.425032121050014,\n",
       "  0.4230283973471331,\n",
       "  0.420878216328696,\n",
       "  0.4188809103435188,\n",
       "  0.41675773776717384,\n",
       "  0.41506097258576763,\n",
       "  0.41338707732616414,\n",
       "  0.41144576461167687,\n",
       "  0.4099239444753423,\n",
       "  0.40827813988441647,\n",
       "  0.406549394408221,\n",
       "  0.40486025479932064,\n",
       "  0.4033432273813665,\n",
       "  0.40194729464412754,\n",
       "  0.400287620252263],\n",
       " 'mae': [0.9361177,\n",
       "  0.6352257,\n",
       "  0.593299,\n",
       "  0.5693934,\n",
       "  0.55344635,\n",
       "  0.5407748,\n",
       "  0.5288024,\n",
       "  0.52098346,\n",
       "  0.51430476,\n",
       "  0.50734425,\n",
       "  0.50305635,\n",
       "  0.49903268,\n",
       "  0.49524146,\n",
       "  0.49250105,\n",
       "  0.48923638,\n",
       "  0.48757046,\n",
       "  0.48517582,\n",
       "  0.48236817,\n",
       "  0.48044676,\n",
       "  0.47876912,\n",
       "  0.4771069,\n",
       "  0.47570106,\n",
       "  0.47351044,\n",
       "  0.472324,\n",
       "  0.4710244,\n",
       "  0.46914926,\n",
       "  0.46780527,\n",
       "  0.46627218,\n",
       "  0.4656698,\n",
       "  0.46307066,\n",
       "  0.46287158,\n",
       "  0.46130678,\n",
       "  0.45977792,\n",
       "  0.4590133,\n",
       "  0.45763424,\n",
       "  0.4568466,\n",
       "  0.45530573,\n",
       "  0.45356226,\n",
       "  0.45320615,\n",
       "  0.45220703],\n",
       " 'val_loss': [0.800705692730562,\n",
       "  0.6820059761544844,\n",
       "  0.6308655142784119,\n",
       "  0.5945452818843837,\n",
       "  0.5665569438325828,\n",
       "  0.5447554819707686,\n",
       "  0.5265492750114649,\n",
       "  0.5113417207111997,\n",
       "  0.49811039048002015,\n",
       "  0.4876333107568985,\n",
       "  0.4772775261565623,\n",
       "  0.4695318727115411,\n",
       "  0.4629464646812067,\n",
       "  0.4571080327557319,\n",
       "  0.4511236695901502,\n",
       "  0.4467565614392892,\n",
       "  0.4424318596111656,\n",
       "  0.4387686711538932,\n",
       "  0.4353480251935118,\n",
       "  0.43273272146754216,\n",
       "  0.4290904208742558,\n",
       "  0.42616883877584727,\n",
       "  0.4238323445775601,\n",
       "  0.4211867284294767,\n",
       "  0.4192040478401822,\n",
       "  0.41752678872309706,\n",
       "  0.4151005106254884,\n",
       "  0.4128809061207051,\n",
       "  0.41095499489529724,\n",
       "  0.4091071696388624,\n",
       "  0.4074757162581925,\n",
       "  0.4046403778490788,\n",
       "  0.4034109380465004,\n",
       "  0.40214124921502903,\n",
       "  0.40041638758736164,\n",
       "  0.39927425721162313,\n",
       "  0.3969993457410179,\n",
       "  0.39615938401731116,\n",
       "  0.3935594907943458,\n",
       "  0.392951161928008],\n",
       " 'val_mae': [0.66409546,\n",
       "  0.6026098,\n",
       "  0.5741209,\n",
       "  0.55726355,\n",
       "  0.5437445,\n",
       "  0.5264548,\n",
       "  0.51963747,\n",
       "  0.51589656,\n",
       "  0.50378233,\n",
       "  0.50041544,\n",
       "  0.49742162,\n",
       "  0.49051964,\n",
       "  0.4866317,\n",
       "  0.48440275,\n",
       "  0.48394832,\n",
       "  0.47833583,\n",
       "  0.47702292,\n",
       "  0.4755547,\n",
       "  0.47785696,\n",
       "  0.47370023,\n",
       "  0.47311723,\n",
       "  0.46713784,\n",
       "  0.4683986,\n",
       "  0.46485332,\n",
       "  0.46312472,\n",
       "  0.45967585,\n",
       "  0.46015748,\n",
       "  0.46315926,\n",
       "  0.45542106,\n",
       "  0.45709616,\n",
       "  0.45376086,\n",
       "  0.45366377,\n",
       "  0.45279405,\n",
       "  0.45242766,\n",
       "  0.45377287,\n",
       "  0.44920677,\n",
       "  0.44986314,\n",
       "  0.45229223,\n",
       "  0.44764215,\n",
       "  0.44693944]}"
      ]
     },
     "execution_count": 18,
     "metadata": {},
     "output_type": "execute_result"
    }
   ],
   "source": [
    "model_history.history"
   ]
  },
  {
   "cell_type": "code",
   "execution_count": 19,
   "metadata": {},
   "outputs": [
    {
     "data": {
      "image/png": "[encoded data removed]",
      "text/plain": [
       "<Figure size 576x360 with 1 Axes>"
      ]
     },
     "metadata": {
      "needs_background": "light"
     },
     "output_type": "display_data"
    }
   ],
   "source": [
    "pd.DataFrame(model_history.history).plot(figsize=(8,5))\n",
    "plt.grid(True)\n",
    "plt.gca().set_ylim(0,1)\n",
    "plt.show()"
   ]
  },
  {
   "cell_type": "code",
   "execution_count": 20,
   "metadata": {},
   "outputs": [],
   "source": [
    "x_check = X_test[10:14]"
   ]
  },
  {
   "cell_type": "code",
   "execution_count": 21,
   "metadata": {},
   "outputs": [],
   "source": [
    "y_pred = model.predict(x_check)"
   ]
  },
  {
   "cell_type": "code",
   "execution_count": 22,
   "metadata": {},
   "outputs": [
    {
     "name": "stdout",
     "output_type": "stream",
     "text": [
      "[[2.5162234]\n",
      " [0.632861 ]\n",
      " [1.4569075]\n",
      " [1.3857031]]\n",
      "[5.00001 0.579   1.393   1.583  ]\n"
     ]
    }
   ],
   "source": [
    "print(y_pred)\n",
    "print(y_test[10:14])"
   ]
  },
  {
   "cell_type": "markdown",
   "metadata": {},
   "source": [
    "<h3>Functional API</h3>\n",
    "It provides a more flexible way for defining models.</br>\n",
    "It specifically allows you to define multiple input or output models as well as models that share layers. More than that, it allows you to define ad hoc acyclic network graphs."
   ]
  },
  {
   "cell_type": "code",
   "execution_count": 23,
   "metadata": {},
   "outputs": [],
   "source": [
    "input1 = keras.layers.Input(shape=X_train.shape[1:])\n",
    "hidden1 = keras.layers.Dense(32, activation=\"relu\")(input1)\n",
    "hidden2 = keras.layers.Dense(32, activation=\"relu\")(hidden1)\n",
    "concat = keras.layers.concatenate([input1,hidden2])\n",
    "output = keras.layers.Dense(1)(concat)\n",
    "model2 = keras.models.Model(inputs=[input1],outputs=[output])"
   ]
  },
  {
   "cell_type": "code",
   "execution_count": 24,
   "metadata": {},
   "outputs": [
    {
     "name": "stdout",
     "output_type": "stream",
     "text": [
      "Model: \"model\"\n",
      "__________________________________________________________________________________________________\n",
      "Layer (type)                    Output Shape         Param #     Connected to                     \n",
      "==================================================================================================\n",
      "input_1 (InputLayer)            [(None, 8)]          0                                            \n",
      "__________________________________________________________________________________________________\n",
      "dense_3 (Dense)                 (None, 32)           288         input_1[0][0]                    \n",
      "__________________________________________________________________________________________________\n",
      "dense_4 (Dense)                 (None, 32)           1056        dense_3[0][0]                    \n",
      "__________________________________________________________________________________________________\n",
      "concatenate (Concatenate)       (None, 40)           0           input_1[0][0]                    \n",
      "                                                                 dense_4[0][0]                    \n",
      "__________________________________________________________________________________________________\n",
      "dense_5 (Dense)                 (None, 1)            41          concatenate[0][0]                \n",
      "==================================================================================================\n",
      "Total params: 1,385\n",
      "Trainable params: 1,385\n",
      "Non-trainable params: 0\n",
      "__________________________________________________________________________________________________\n"
     ]
    }
   ],
   "source": [
    "model2.summary()"
   ]
  },
  {
   "cell_type": "code",
   "execution_count": 25,
   "metadata": {},
   "outputs": [
    {
     "data": {
      "image/png": "[encoded data removed]",
      "text/plain": [
       "<IPython.core.display.Image object>"
      ]
     },
     "execution_count": 25,
     "metadata": {},
     "output_type": "execute_result"
    }
   ],
   "source": [
    "import pydot\n",
    "keras.utils.plot_model(model2)"
   ]
  },
  {
   "cell_type": "code",
   "execution_count": 26,
   "metadata": {},
   "outputs": [],
   "source": [
    "model2.compile(loss=\"mean_squared_error\",optimizer=keras.optimizers.SGD(lr=1e-3),metrics=['mae'])"
   ]
  },
  {
   "cell_type": "code",
   "execution_count": 27,
   "metadata": {},
   "outputs": [
    {
     "name": "stdout",
     "output_type": "stream",
     "text": [
      "Train on 13209 samples, validate on 3303 samples\n",
      "Epoch 1/120\n",
      "13209/13209 [==============================] - 6s 423us/sample - loss: 2.0049 - mae: 1.0211 - val_loss: 0.8375 - val_mae: 0.6784\n",
      "Epoch 2/120\n",
      "13209/13209 [==============================] - 5s 352us/sample - loss: 0.7280 - mae: 0.6316 - val_loss: 0.6596 - val_mae: 0.5867\n",
      "Epoch 3/120\n",
      "13209/13209 [==============================] - 4s 301us/sample - loss: 0.6465 - mae: 0.5853 - val_loss: 0.6158 - val_mae: 0.5652\n",
      "Epoch 4/120\n",
      "13209/13209 [==============================] - 4s 310us/sample - loss: 0.6123 - mae: 0.5665 - val_loss: 0.5916 - val_mae: 0.5535\n",
      "Epoch 5/120\n",
      "13209/13209 [==============================] - 4s 305us/sample - loss: 0.5895 - mae: 0.5559 - val_loss: 0.5692 - val_mae: 0.5444\n",
      "Epoch 6/120\n",
      "13209/13209 [==============================] - 5s 384us/sample - loss: 0.5716 - mae: 0.5478 - val_loss: 0.5546 - val_mae: 0.5320\n",
      "Epoch 7/120\n",
      "13209/13209 [==============================] - 5s 383us/sample - loss: 0.5577 - mae: 0.5395 - val_loss: 0.5418 - val_mae: 0.5267\n",
      "Epoch 8/120\n",
      "13209/13209 [==============================] - 6s 424us/sample - loss: 0.5462 - mae: 0.5346 - val_loss: 0.5319 - val_mae: 0.5274\n",
      "Epoch 9/120\n",
      "13209/13209 [==============================] - 3s 248us/sample - loss: 0.5370 - mae: 0.5310 - val_loss: 0.5226 - val_mae: 0.5171\n",
      "Epoch 10/120\n",
      "13209/13209 [==============================] - 4s 281us/sample - loss: 0.5286 - mae: 0.5260 - val_loss: 0.5148 - val_mae: 0.5155\n",
      "Epoch 11/120\n",
      "13209/13209 [==============================] - 4s 282us/sample - loss: 0.5216 - mae: 0.5233 - val_loss: 0.5076 - val_mae: 0.5143\n",
      "Epoch 12/120\n",
      "13209/13209 [==============================] - 3s 226us/sample - loss: 0.5147 - mae: 0.5202 - val_loss: 0.5040 - val_mae: 0.5093\n",
      "Epoch 13/120\n",
      "13209/13209 [==============================] - 6s 483us/sample - loss: 0.5093 - mae: 0.5182 - val_loss: 0.4998 - val_mae: 0.5065\n",
      "Epoch 14/120\n",
      "13209/13209 [==============================] - 3s 257us/sample - loss: 0.5048 - mae: 0.5156 - val_loss: 0.4935 - val_mae: 0.5057\n",
      "Epoch 15/120\n",
      "13209/13209 [==============================] - 4s 273us/sample - loss: 0.4995 - mae: 0.5127 - val_loss: 0.4864 - val_mae: 0.5034\n",
      "Epoch 16/120\n",
      "13209/13209 [==============================] - 3s 218us/sample - loss: 0.4955 - mae: 0.5113 - val_loss: 0.4832 - val_mae: 0.5000\n",
      "Epoch 17/120\n",
      "13209/13209 [==============================] - 3s 226us/sample - loss: 0.4913 - mae: 0.5091 - val_loss: 0.4799 - val_mae: 0.4976\n",
      "Epoch 18/120\n",
      "13209/13209 [==============================] - 3s 233us/sample - loss: 0.4875 - mae: 0.5068 - val_loss: 0.4749 - val_mae: 0.4955\n",
      "Epoch 19/120\n",
      "13209/13209 [==============================] - 3s 218us/sample - loss: 0.4835 - mae: 0.5041 - val_loss: 0.4719 - val_mae: 0.4986\n",
      "Epoch 20/120\n",
      "13209/13209 [==============================] - 3s 194us/sample - loss: 0.4806 - mae: 0.5030 - val_loss: 0.4687 - val_mae: 0.4927\n",
      "Epoch 21/120\n",
      "13209/13209 [==============================] - 3s 194us/sample - loss: 0.4767 - mae: 0.5008 - val_loss: 0.4648 - val_mae: 0.4928\n",
      "Epoch 22/120\n",
      "13209/13209 [==============================] - 3s 198us/sample - loss: 0.4737 - mae: 0.4994 - val_loss: 0.4630 - val_mae: 0.4879\n",
      "Epoch 23/120\n",
      "13209/13209 [==============================] - 3s 212us/sample - loss: 0.4710 - mae: 0.4974 - val_loss: 0.4590 - val_mae: 0.4879\n",
      "Epoch 24/120\n",
      "13209/13209 [==============================] - 3s 244us/sample - loss: 0.4685 - mae: 0.4961 - val_loss: 0.4575 - val_mae: 0.4854\n",
      "Epoch 25/120\n",
      "13209/13209 [==============================] - 3s 223us/sample - loss: 0.4657 - mae: 0.4952 - val_loss: 0.4543 - val_mae: 0.4826\n",
      "Epoch 26/120\n",
      "13209/13209 [==============================] - 3s 255us/sample - loss: 0.4630 - mae: 0.4921 - val_loss: 0.4537 - val_mae: 0.4807\n",
      "Epoch 27/120\n",
      "13209/13209 [==============================] - 3s 232us/sample - loss: 0.4615 - mae: 0.4918 - val_loss: 0.4499 - val_mae: 0.4800\n",
      "Epoch 28/120\n",
      "13209/13209 [==============================] - 3s 221us/sample - loss: 0.4592 - mae: 0.4900 - val_loss: 0.4490 - val_mae: 0.4810\n",
      "Epoch 29/120\n",
      "13209/13209 [==============================] - 2s 179us/sample - loss: 0.4568 - mae: 0.4892 - val_loss: 0.4461 - val_mae: 0.4765\n",
      "Epoch 30/120\n",
      "13209/13209 [==============================] - 2s 167us/sample - loss: 0.4545 - mae: 0.4870 - val_loss: 0.4436 - val_mae: 0.4765\n",
      "Epoch 31/120\n",
      "13209/13209 [==============================] - 3s 220us/sample - loss: 0.4530 - mae: 0.4869 - val_loss: 0.4424 - val_mae: 0.4749\n",
      "Epoch 32/120\n",
      "13209/13209 [==============================] - 3s 236us/sample - loss: 0.4511 - mae: 0.4850 - val_loss: 0.4394 - val_mae: 0.4741\n",
      "Epoch 33/120\n",
      "13209/13209 [==============================] - 3s 247us/sample - loss: 0.4487 - mae: 0.4837 - val_loss: 0.4378 - val_mae: 0.4733\n",
      "Epoch 34/120\n",
      "13209/13209 [==============================] - 4s 281us/sample - loss: 0.4475 - mae: 0.4834 - val_loss: 0.4371 - val_mae: 0.4732\n",
      "Epoch 35/120\n",
      "13209/13209 [==============================] - 3s 196us/sample - loss: 0.4462 - mae: 0.4815 - val_loss: 0.4356 - val_mae: 0.4753\n",
      "Epoch 36/120\n",
      "13209/13209 [==============================] - 3s 209us/sample - loss: 0.4434 - mae: 0.4812 - val_loss: 0.4341 - val_mae: 0.4703\n",
      "Epoch 37/120\n",
      "13209/13209 [==============================] - 3s 222us/sample - loss: 0.4419 - mae: 0.4798 - val_loss: 0.4323 - val_mae: 0.4717\n",
      "Epoch 38/120\n",
      "13209/13209 [==============================] - 3s 264us/sample - loss: 0.4403 - mae: 0.4782 - val_loss: 0.4312 - val_mae: 0.4717\n",
      "Epoch 39/120\n",
      "13209/13209 [==============================] - 3s 241us/sample - loss: 0.4386 - mae: 0.4776 - val_loss: 0.4290 - val_mae: 0.4685\n",
      "Epoch 40/120\n",
      "13209/13209 [==============================] - 2s 183us/sample - loss: 0.4376 - mae: 0.4768 - val_loss: 0.4284 - val_mae: 0.4688\n",
      "Epoch 41/120\n",
      "13209/13209 [==============================] - 2s 186us/sample - loss: 0.4354 - mae: 0.4753 - val_loss: 0.4263 - val_mae: 0.4668\n",
      "Epoch 42/120\n",
      "13209/13209 [==============================] - 2s 178us/sample - loss: 0.4347 - mae: 0.4749 - val_loss: 0.4263 - val_mae: 0.4727\n",
      "Epoch 43/120\n",
      "13209/13209 [==============================] - 2s 179us/sample - loss: 0.4333 - mae: 0.4746 - val_loss: 0.4243 - val_mae: 0.4660\n",
      "Epoch 44/120\n",
      "13209/13209 [==============================] - 4s 295us/sample - loss: 0.4316 - mae: 0.4731 - val_loss: 0.4229 - val_mae: 0.4671\n",
      "Epoch 45/120\n",
      "13209/13209 [==============================] - 3s 264us/sample - loss: 0.4303 - mae: 0.4719 - val_loss: 0.4220 - val_mae: 0.4673\n",
      "Epoch 46/120\n",
      "13209/13209 [==============================] - 3s 213us/sample - loss: 0.4287 - mae: 0.4719 - val_loss: 0.4205 - val_mae: 0.4610\n",
      "Epoch 47/120\n",
      "13209/13209 [==============================] - 4s 319us/sample - loss: 0.4279 - mae: 0.4707 - val_loss: 0.4191 - val_mae: 0.4639\n",
      "Epoch 48/120\n",
      "13209/13209 [==============================] - 5s 375us/sample - loss: 0.4264 - mae: 0.4695 - val_loss: 0.4183 - val_mae: 0.4611\n",
      "Epoch 49/120\n",
      "13209/13209 [==============================] - 2s 165us/sample - loss: 0.4251 - mae: 0.4687 - val_loss: 0.4172 - val_mae: 0.4617\n",
      "Epoch 50/120\n",
      "13209/13209 [==============================] - 3s 211us/sample - loss: 0.4240 - mae: 0.4680 - val_loss: 0.4160 - val_mae: 0.4637\n",
      "Epoch 51/120\n",
      "13209/13209 [==============================] - 3s 198us/sample - loss: 0.4226 - mae: 0.4674 - val_loss: 0.4150 - val_mae: 0.4621\n",
      "Epoch 52/120\n",
      "13209/13209 [==============================] - 3s 190us/sample - loss: 0.4217 - mae: 0.4668 - val_loss: 0.4145 - val_mae: 0.4567\n",
      "Epoch 53/120\n",
      "13209/13209 [==============================] - 3s 195us/sample - loss: 0.4208 - mae: 0.4658 - val_loss: 0.4127 - val_mae: 0.4579\n",
      "Epoch 54/120\n",
      "13209/13209 [==============================] - 3s 212us/sample - loss: 0.4193 - mae: 0.4645 - val_loss: 0.4115 - val_mae: 0.4603\n",
      "Epoch 55/120\n",
      "13209/13209 [==============================] - 3s 236us/sample - loss: 0.4188 - mae: 0.4650 - val_loss: 0.4114 - val_mae: 0.4577\n",
      "Epoch 56/120\n",
      "13209/13209 [==============================] - 3s 221us/sample - loss: 0.4175 - mae: 0.4632 - val_loss: 0.4098 - val_mae: 0.4620\n",
      "Epoch 57/120\n",
      "13209/13209 [==============================] - 3s 197us/sample - loss: 0.4164 - mae: 0.4637 - val_loss: 0.4090 - val_mae: 0.4544\n",
      "Epoch 58/120\n"
     ]
    },
    {
     "name": "stdout",
     "output_type": "stream",
     "text": [
      "13209/13209 [==============================] - 3s 196us/sample - loss: 0.4152 - mae: 0.4614 - val_loss: 0.4068 - val_mae: 0.4580\n",
      "Epoch 59/120\n",
      "13209/13209 [==============================] - 4s 290us/sample - loss: 0.4144 - mae: 0.4618 - val_loss: 0.4071 - val_mae: 0.4550\n",
      "Epoch 60/120\n",
      "13209/13209 [==============================] - 3s 223us/sample - loss: 0.4135 - mae: 0.4608 - val_loss: 0.4050 - val_mae: 0.4551\n",
      "Epoch 61/120\n",
      "13209/13209 [==============================] - 5s 396us/sample - loss: 0.4123 - mae: 0.4600 - val_loss: 0.4032 - val_mae: 0.4550\n",
      "Epoch 62/120\n",
      "13209/13209 [==============================] - 4s 274us/sample - loss: 0.4117 - mae: 0.4598 - val_loss: 0.4041 - val_mae: 0.4527\n",
      "Epoch 63/120\n",
      "13209/13209 [==============================] - 4s 327us/sample - loss: 0.4108 - mae: 0.4587 - val_loss: 0.4027 - val_mae: 0.4553\n",
      "Epoch 64/120\n",
      "13209/13209 [==============================] - 4s 303us/sample - loss: 0.4093 - mae: 0.4582 - val_loss: 0.4021 - val_mae: 0.4529\n",
      "Epoch 65/120\n",
      "13209/13209 [==============================] - 4s 283us/sample - loss: 0.4083 - mae: 0.4572 - val_loss: 0.4001 - val_mae: 0.4534\n",
      "Epoch 66/120\n",
      "13209/13209 [==============================] - 3s 203us/sample - loss: 0.4090 - mae: 0.4573 - val_loss: 0.3997 - val_mae: 0.4525\n",
      "Epoch 67/120\n",
      "13209/13209 [==============================] - 3s 219us/sample - loss: 0.4076 - mae: 0.4565 - val_loss: 0.3993 - val_mae: 0.4502\n",
      "Epoch 68/120\n",
      "13209/13209 [==============================] - 3s 232us/sample - loss: 0.4057 - mae: 0.4553 - val_loss: 0.3978 - val_mae: 0.4477\n",
      "Epoch 69/120\n",
      "13209/13209 [==============================] - 5s 347us/sample - loss: 0.4052 - mae: 0.4549 - val_loss: 0.3969 - val_mae: 0.4481\n",
      "Epoch 70/120\n",
      "13209/13209 [==============================] - 4s 292us/sample - loss: 0.4040 - mae: 0.4537 - val_loss: 0.3962 - val_mae: 0.4510\n",
      "Epoch 71/120\n",
      "13209/13209 [==============================] - 4s 276us/sample - loss: 0.4031 - mae: 0.4537 - val_loss: 0.3952 - val_mae: 0.4484\n",
      "Epoch 72/120\n",
      "13209/13209 [==============================] - 4s 282us/sample - loss: 0.4019 - mae: 0.4531 - val_loss: 0.3961 - val_mae: 0.4455\n",
      "Epoch 73/120\n",
      "13209/13209 [==============================] - 4s 270us/sample - loss: 0.4013 - mae: 0.4518 - val_loss: 0.3935 - val_mae: 0.4493\n",
      "Epoch 74/120\n",
      "13209/13209 [==============================] - 4s 302us/sample - loss: 0.4004 - mae: 0.4513 - val_loss: 0.3930 - val_mae: 0.4464\n",
      "Epoch 75/120\n",
      "13209/13209 [==============================] - 4s 318us/sample - loss: 0.3996 - mae: 0.4514 - val_loss: 0.3914 - val_mae: 0.4428\n",
      "Epoch 76/120\n",
      "13209/13209 [==============================] - 3s 246us/sample - loss: 0.3987 - mae: 0.4495 - val_loss: 0.3905 - val_mae: 0.4475\n",
      "Epoch 77/120\n",
      "13209/13209 [==============================] - 4s 272us/sample - loss: 0.3981 - mae: 0.4499 - val_loss: 0.3901 - val_mae: 0.4450\n",
      "Epoch 78/120\n",
      "13209/13209 [==============================] - 4s 339us/sample - loss: 0.3975 - mae: 0.4494 - val_loss: 0.3889 - val_mae: 0.4434\n",
      "Epoch 79/120\n",
      "13209/13209 [==============================] - 4s 268us/sample - loss: 0.3966 - mae: 0.4489 - val_loss: 0.3888 - val_mae: 0.4439\n",
      "Epoch 80/120\n",
      "13209/13209 [==============================] - 3s 260us/sample - loss: 0.3959 - mae: 0.4480 - val_loss: 0.3884 - val_mae: 0.4418\n",
      "Epoch 81/120\n",
      "13209/13209 [==============================] - 3s 247us/sample - loss: 0.3944 - mae: 0.4465 - val_loss: 0.3859 - val_mae: 0.4432\n",
      "Epoch 82/120\n",
      "13209/13209 [==============================] - 3s 248us/sample - loss: 0.3941 - mae: 0.4469 - val_loss: 0.3861 - val_mae: 0.4428\n",
      "Epoch 83/120\n",
      "13209/13209 [==============================] - 4s 285us/sample - loss: 0.3930 - mae: 0.4462 - val_loss: 0.3856 - val_mae: 0.4389\n",
      "Epoch 84/120\n",
      "13209/13209 [==============================] - 4s 305us/sample - loss: 0.3921 - mae: 0.4446 - val_loss: 0.3840 - val_mae: 0.4416\n",
      "Epoch 85/120\n",
      "13209/13209 [==============================] - 5s 409us/sample - loss: 0.3914 - mae: 0.4453 - val_loss: 0.3841 - val_mae: 0.4384\n",
      "Epoch 86/120\n",
      "13209/13209 [==============================] - 5s 366us/sample - loss: 0.3906 - mae: 0.4441 - val_loss: 0.3828 - val_mae: 0.4411\n",
      "Epoch 87/120\n",
      "13209/13209 [==============================] - 6s 417us/sample - loss: 0.3893 - mae: 0.4429 - val_loss: 0.3812 - val_mae: 0.4405\n",
      "Epoch 88/120\n",
      "13209/13209 [==============================] - 4s 316us/sample - loss: 0.3895 - mae: 0.4431 - val_loss: 0.3806 - val_mae: 0.4378\n",
      "Epoch 89/120\n",
      "13209/13209 [==============================] - 5s 379us/sample - loss: 0.3879 - mae: 0.4421 - val_loss: 0.3806 - val_mae: 0.4380\n",
      "Epoch 90/120\n",
      "13209/13209 [==============================] - 3s 265us/sample - loss: 0.3877 - mae: 0.4415 - val_loss: 0.3789 - val_mae: 0.4391\n",
      "Epoch 91/120\n",
      "13209/13209 [==============================] - 3s 262us/sample - loss: 0.3861 - mae: 0.4412 - val_loss: 0.3797 - val_mae: 0.4350\n",
      "Epoch 92/120\n",
      "13209/13209 [==============================] - 3s 254us/sample - loss: 0.3859 - mae: 0.4400 - val_loss: 0.3776 - val_mae: 0.4370\n",
      "Epoch 93/120\n",
      "13209/13209 [==============================] - 3s 217us/sample - loss: 0.3852 - mae: 0.4403 - val_loss: 0.3765 - val_mae: 0.4343\n",
      "Epoch 94/120\n",
      "13209/13209 [==============================] - 3s 253us/sample - loss: 0.3845 - mae: 0.4391 - val_loss: 0.3760 - val_mae: 0.4355\n",
      "Epoch 95/120\n",
      "13209/13209 [==============================] - 3s 215us/sample - loss: 0.3865 - mae: 0.4398 - val_loss: 0.3756 - val_mae: 0.4351\n",
      "Epoch 96/120\n",
      "13209/13209 [==============================] - 4s 281us/sample - loss: 0.3829 - mae: 0.4382 - val_loss: 0.3754 - val_mae: 0.4319\n",
      "Epoch 97/120\n",
      "13209/13209 [==============================] - 3s 259us/sample - loss: 0.3879 - mae: 0.4391 - val_loss: 0.3749 - val_mae: 0.4324\n",
      "Epoch 98/120\n",
      "13209/13209 [==============================] - 3s 242us/sample - loss: 0.3838 - mae: 0.4374 - val_loss: 0.3735 - val_mae: 0.4344\n",
      "Epoch 99/120\n",
      "13209/13209 [==============================] - 4s 290us/sample - loss: 0.3805 - mae: 0.4363 - val_loss: 0.3729 - val_mae: 0.4371\n",
      "Epoch 100/120\n",
      "13209/13209 [==============================] - 3s 198us/sample - loss: 0.3818 - mae: 0.4369 - val_loss: 0.3728 - val_mae: 0.4339\n",
      "Epoch 101/120\n",
      "13209/13209 [==============================] - 3s 243us/sample - loss: 0.3794 - mae: 0.4349 - val_loss: 0.3712 - val_mae: 0.4347\n",
      "Epoch 102/120\n",
      "13209/13209 [==============================] - 3s 264us/sample - loss: 0.3798 - mae: 0.4358 - val_loss: 0.3707 - val_mae: 0.4323\n",
      "Epoch 103/120\n",
      "13209/13209 [==============================] - 3s 238us/sample - loss: 0.3800 - mae: 0.4339 - val_loss: 0.3709 - val_mae: 0.4357\n",
      "Epoch 104/120\n",
      "13209/13209 [==============================] - 3s 203us/sample - loss: 0.3779 - mae: 0.4347 - val_loss: 0.3693 - val_mae: 0.4317\n",
      "Epoch 105/120\n",
      "13209/13209 [==============================] - 3s 229us/sample - loss: 0.3763 - mae: 0.4333 - val_loss: 0.3683 - val_mae: 0.4279\n",
      "Epoch 106/120\n",
      "13209/13209 [==============================] - 3s 220us/sample - loss: 0.3763 - mae: 0.4328 - val_loss: 0.3668 - val_mae: 0.4310\n",
      "Epoch 107/120\n",
      "13209/13209 [==============================] - 3s 232us/sample - loss: 0.3756 - mae: 0.4324 - val_loss: 0.3678 - val_mae: 0.4306\n",
      "Epoch 108/120\n",
      "13209/13209 [==============================] - 3s 228us/sample - loss: 0.3865 - mae: 0.4336 - val_loss: 0.3669 - val_mae: 0.4287\n",
      "Epoch 109/120\n",
      "13209/13209 [==============================] - 3s 252us/sample - loss: 0.3761 - mae: 0.4314 - val_loss: 0.3662 - val_mae: 0.4308\n",
      "Epoch 110/120\n",
      "13209/13209 [==============================] - 4s 285us/sample - loss: 0.3745 - mae: 0.4310 - val_loss: 0.3656 - val_mae: 0.4312\n",
      "Epoch 111/120\n",
      "13209/13209 [==============================] - 5s 406us/sample - loss: 0.3723 - mae: 0.4306 - val_loss: 0.3649 - val_mae: 0.4288\n",
      "Epoch 112/120\n",
      "13209/13209 [==============================] - 3s 251us/sample - loss: 0.3720 - mae: 0.4294 - val_loss: 0.3645 - val_mae: 0.4270\n",
      "Epoch 113/120\n",
      "13209/13209 [==============================] - 3s 239us/sample - loss: 0.3719 - mae: 0.4300 - val_loss: 0.3644 - val_mae: 0.4257\n",
      "Epoch 114/120\n",
      "13209/13209 [==============================] - 4s 294us/sample - loss: 0.3719 - mae: 0.4291 - val_loss: 0.3626 - val_mae: 0.4241\n",
      "Epoch 115/120\n"
     ]
    },
    {
     "name": "stdout",
     "output_type": "stream",
     "text": [
      "13209/13209 [==============================] - 3s 258us/sample - loss: 0.3701 - mae: 0.4283 - val_loss: 0.3640 - val_mae: 0.4216\n",
      "Epoch 116/120\n",
      "13209/13209 [==============================] - 2s 180us/sample - loss: 0.3745 - mae: 0.4292 - val_loss: 0.3631 - val_mae: 0.4230\n",
      "Epoch 117/120\n",
      "13209/13209 [==============================] - 3s 243us/sample - loss: 0.3689 - mae: 0.4270 - val_loss: 0.3610 - val_mae: 0.4244\n",
      "Epoch 118/120\n",
      "13209/13209 [==============================] - 3s 229us/sample - loss: 0.3693 - mae: 0.4269 - val_loss: 0.3601 - val_mae: 0.4279\n",
      "Epoch 119/120\n",
      "13209/13209 [==============================] - 4s 279us/sample - loss: 0.3692 - mae: 0.4278 - val_loss: 0.3608 - val_mae: 0.4238\n",
      "Epoch 120/120\n",
      "13209/13209 [==============================] - 3s 245us/sample - loss: 0.3672 - mae: 0.4256 - val_loss: 0.3603 - val_mae: 0.4220\n"
     ]
    }
   ],
   "source": [
    "model2_history = model2.fit(X_train,y_train,epochs=120,validation_data=(X_valid,y_valid))"
   ]
  },
  {
   "cell_type": "code",
   "execution_count": 28,
   "metadata": {},
   "outputs": [
    {
     "name": "stdout",
     "output_type": "stream",
     "text": [
      "4128/4128 [==============================] - 1s 202us/sample - loss: 0.3585 - mae: 0.4216\n"
     ]
    }
   ],
   "source": [
    "mae_test2 = model2.evaluate(X_test,y_test)"
   ]
  },
  {
   "cell_type": "code",
   "execution_count": 29,
   "metadata": {},
   "outputs": [
    {
     "data": {
      "text/plain": [
       "{'loss': [2.004912701636966,\n",
       "  0.7279996340339249,\n",
       "  0.6464832953432416,\n",
       "  0.6122626447372572,\n",
       "  0.5895399362315867,\n",
       "  0.5715642216907911,\n",
       "  0.5577001555139791,\n",
       "  0.5461527297585058,\n",
       "  0.5369833576373738,\n",
       "  0.5285906071210397,\n",
       "  0.5216047270390599,\n",
       "  0.5146799662317332,\n",
       "  0.5093273138955265,\n",
       "  0.5047974946307724,\n",
       "  0.499548871941891,\n",
       "  0.4954772356583697,\n",
       "  0.491306849170917,\n",
       "  0.48750966074826074,\n",
       "  0.4834727444929596,\n",
       "  0.48058719977818826,\n",
       "  0.47668580637448166,\n",
       "  0.47369718386706544,\n",
       "  0.471014908108869,\n",
       "  0.4685481467135282,\n",
       "  0.4657414472791715,\n",
       "  0.46297545455696815,\n",
       "  0.4614795317836836,\n",
       "  0.45917347485877985,\n",
       "  0.4567742988617255,\n",
       "  0.45449901720497227,\n",
       "  0.45301992488318943,\n",
       "  0.4510968365358976,\n",
       "  0.44870701627616166,\n",
       "  0.44754936773118736,\n",
       "  0.4462134427653912,\n",
       "  0.4434062190772962,\n",
       "  0.44186127017056775,\n",
       "  0.4403165211101946,\n",
       "  0.4385950020282109,\n",
       "  0.4375976904108754,\n",
       "  0.435422002332867,\n",
       "  0.43471866857816904,\n",
       "  0.43325388437415224,\n",
       "  0.43159354055250015,\n",
       "  0.4302681078475108,\n",
       "  0.42869195528088694,\n",
       "  0.42788655658946534,\n",
       "  0.4263846955821736,\n",
       "  0.4250728672977941,\n",
       "  0.4239827759585921,\n",
       "  0.42264324715897555,\n",
       "  0.42165796795912247,\n",
       "  0.42080520373324276,\n",
       "  0.4192722799722211,\n",
       "  0.41883220294308127,\n",
       "  0.4175055767948527,\n",
       "  0.4164123411154763,\n",
       "  0.4151848082487278,\n",
       "  0.41440350810461124,\n",
       "  0.41354920591509525,\n",
       "  0.4123230238523154,\n",
       "  0.41171779723674257,\n",
       "  0.4107932242135401,\n",
       "  0.40927302227742973,\n",
       "  0.40832785537001204,\n",
       "  0.4089683423058362,\n",
       "  0.40760111972126706,\n",
       "  0.40574131683457115,\n",
       "  0.40519724810084634,\n",
       "  0.40400233239531114,\n",
       "  0.40308508132767357,\n",
       "  0.4019265768024217,\n",
       "  0.40125314461868133,\n",
       "  0.40041520740354314,\n",
       "  0.39961853725371044,\n",
       "  0.3986860517748318,\n",
       "  0.39808826418014664,\n",
       "  0.3975063396516382,\n",
       "  0.39659945346971764,\n",
       "  0.3958555159313203,\n",
       "  0.39442511280007686,\n",
       "  0.3940645758962548,\n",
       "  0.39299083880539226,\n",
       "  0.39208256834406524,\n",
       "  0.39137681118156303,\n",
       "  0.39060809824989967,\n",
       "  0.38931802356709716,\n",
       "  0.389504120445367,\n",
       "  0.3878620151170622,\n",
       "  0.38766943711246815,\n",
       "  0.38609791003256183,\n",
       "  0.3859188697300922,\n",
       "  0.3851883319782646,\n",
       "  0.3844841325889521,\n",
       "  0.38646792589228307,\n",
       "  0.38292837573429844,\n",
       "  0.3878976207699473,\n",
       "  0.3837911087411278,\n",
       "  0.38053524420392965,\n",
       "  0.3817680145214288,\n",
       "  0.37943968371101705,\n",
       "  0.37980717788792023,\n",
       "  0.3799986186323723,\n",
       "  0.37787342291175574,\n",
       "  0.3762551450004674,\n",
       "  0.37632555978620735,\n",
       "  0.3755658897283951,\n",
       "  0.3864553512040704,\n",
       "  0.37606818303809914,\n",
       "  0.3744724236208193,\n",
       "  0.3722862679175979,\n",
       "  0.3720365353726774,\n",
       "  0.37194242321467524,\n",
       "  0.37193357591391135,\n",
       "  0.37006668304366397,\n",
       "  0.3744717013324649,\n",
       "  0.36894897306495184,\n",
       "  0.36925379009022646,\n",
       "  0.36915954708143783,\n",
       "  0.36719300352486506],\n",
       " 'mae': [1.0211152,\n",
       "  0.63158464,\n",
       "  0.5852795,\n",
       "  0.5664729,\n",
       "  0.55594176,\n",
       "  0.5478025,\n",
       "  0.5394769,\n",
       "  0.53458804,\n",
       "  0.53103894,\n",
       "  0.52603406,\n",
       "  0.5233421,\n",
       "  0.52023643,\n",
       "  0.5181996,\n",
       "  0.5156247,\n",
       "  0.51273215,\n",
       "  0.51129574,\n",
       "  0.5090773,\n",
       "  0.5067796,\n",
       "  0.50405425,\n",
       "  0.5029758,\n",
       "  0.5007824,\n",
       "  0.49939996,\n",
       "  0.4973627,\n",
       "  0.4960825,\n",
       "  0.49521682,\n",
       "  0.49209306,\n",
       "  0.4918065,\n",
       "  0.49000594,\n",
       "  0.48921272,\n",
       "  0.48695233,\n",
       "  0.4869305,\n",
       "  0.48501912,\n",
       "  0.48369035,\n",
       "  0.48343247,\n",
       "  0.48153543,\n",
       "  0.48123026,\n",
       "  0.4797526,\n",
       "  0.47821558,\n",
       "  0.4776495,\n",
       "  0.4768167,\n",
       "  0.4753194,\n",
       "  0.47487947,\n",
       "  0.47457972,\n",
       "  0.47305074,\n",
       "  0.47185305,\n",
       "  0.47192886,\n",
       "  0.47066796,\n",
       "  0.46949127,\n",
       "  0.4686922,\n",
       "  0.4679786,\n",
       "  0.46740732,\n",
       "  0.466811,\n",
       "  0.46583986,\n",
       "  0.46451774,\n",
       "  0.46500856,\n",
       "  0.4632102,\n",
       "  0.46368542,\n",
       "  0.46140164,\n",
       "  0.4618082,\n",
       "  0.46081874,\n",
       "  0.45999202,\n",
       "  0.45977488,\n",
       "  0.45873648,\n",
       "  0.45818242,\n",
       "  0.4571778,\n",
       "  0.45730624,\n",
       "  0.456469,\n",
       "  0.45526052,\n",
       "  0.45487872,\n",
       "  0.4537228,\n",
       "  0.4537395,\n",
       "  0.4531485,\n",
       "  0.4518166,\n",
       "  0.4513206,\n",
       "  0.45140836,\n",
       "  0.44949114,\n",
       "  0.44990984,\n",
       "  0.4493516,\n",
       "  0.44893613,\n",
       "  0.44801003,\n",
       "  0.44652933,\n",
       "  0.4469051,\n",
       "  0.44621897,\n",
       "  0.44455197,\n",
       "  0.44529006,\n",
       "  0.44409186,\n",
       "  0.44294634,\n",
       "  0.44305038,\n",
       "  0.44214323,\n",
       "  0.441549,\n",
       "  0.44124386,\n",
       "  0.43996307,\n",
       "  0.44034624,\n",
       "  0.4390822,\n",
       "  0.4397538,\n",
       "  0.43817312,\n",
       "  0.43910408,\n",
       "  0.43738794,\n",
       "  0.43628028,\n",
       "  0.43692914,\n",
       "  0.43491378,\n",
       "  0.4358029,\n",
       "  0.43393412,\n",
       "  0.43465564,\n",
       "  0.4332769,\n",
       "  0.43275562,\n",
       "  0.432406,\n",
       "  0.4336221,\n",
       "  0.43135247,\n",
       "  0.43104133,\n",
       "  0.43057415,\n",
       "  0.42937073,\n",
       "  0.42995435,\n",
       "  0.42907244,\n",
       "  0.42831245,\n",
       "  0.42921525,\n",
       "  0.42702243,\n",
       "  0.42687666,\n",
       "  0.42775595,\n",
       "  0.42561853],\n",
       " 'val_loss': [0.8374551568939366,\n",
       "  0.6595880894400371,\n",
       "  0.6157735055535265,\n",
       "  0.5916344165765911,\n",
       "  0.5691628943617836,\n",
       "  0.5545926503780716,\n",
       "  0.541820837734614,\n",
       "  0.531858921899169,\n",
       "  0.5226249102296665,\n",
       "  0.5148390817066557,\n",
       "  0.5076039620025786,\n",
       "  0.5040340154433735,\n",
       "  0.49980179892411347,\n",
       "  0.49352927828535254,\n",
       "  0.4863930719343778,\n",
       "  0.4832361660110492,\n",
       "  0.4799113172835882,\n",
       "  0.47493526213662823,\n",
       "  0.471885117876721,\n",
       "  0.4687430810746084,\n",
       "  0.4647635906221937,\n",
       "  0.4629938456007397,\n",
       "  0.45900475912533706,\n",
       "  0.45753915948088947,\n",
       "  0.4542796246452545,\n",
       "  0.453723145724967,\n",
       "  0.4499362045315371,\n",
       "  0.4490001590106475,\n",
       "  0.4460951198403344,\n",
       "  0.4436111936118435,\n",
       "  0.442382213746711,\n",
       "  0.4394276291131973,\n",
       "  0.4378324040193973,\n",
       "  0.43708602384368905,\n",
       "  0.435569125311937,\n",
       "  0.4341164952177298,\n",
       "  0.43234185214444,\n",
       "  0.43120743787238136,\n",
       "  0.4289552064067192,\n",
       "  0.4283755425743865,\n",
       "  0.42626667595202006,\n",
       "  0.4263074114093122,\n",
       "  0.42428576459478257,\n",
       "  0.4229388038272248,\n",
       "  0.42196258993228924,\n",
       "  0.4204865060013567,\n",
       "  0.4190736578705814,\n",
       "  0.41825065690298857,\n",
       "  0.4171763487000051,\n",
       "  0.4159560727461374,\n",
       "  0.41497812140648416,\n",
       "  0.4144657590318513,\n",
       "  0.41273554794596357,\n",
       "  0.41153424508619263,\n",
       "  0.4113827779722185,\n",
       "  0.4098232714490316,\n",
       "  0.40901886657570624,\n",
       "  0.4067542493758402,\n",
       "  0.4071454031744257,\n",
       "  0.4049985950151213,\n",
       "  0.40315509726251936,\n",
       "  0.40412898922450174,\n",
       "  0.4026753685752659,\n",
       "  0.4021007257575452,\n",
       "  0.4000963321688173,\n",
       "  0.3997410708102825,\n",
       "  0.39927391164724374,\n",
       "  0.3977791979805181,\n",
       "  0.3969383287070702,\n",
       "  0.39622345812169846,\n",
       "  0.39524740350632603,\n",
       "  0.39612585616100926,\n",
       "  0.39346561066370966,\n",
       "  0.39295123558115896,\n",
       "  0.3914323503316766,\n",
       "  0.39045299422712065,\n",
       "  0.3900509965607444,\n",
       "  0.3889347008194593,\n",
       "  0.3887728563121619,\n",
       "  0.3883550369916379,\n",
       "  0.3859287150612464,\n",
       "  0.3861321328383231,\n",
       "  0.38561736840372407,\n",
       "  0.38395375385542113,\n",
       "  0.3840794260397919,\n",
       "  0.3827555858697308,\n",
       "  0.3812093323165996,\n",
       "  0.38059677312654183,\n",
       "  0.38063153122866694,\n",
       "  0.37891096960332515,\n",
       "  0.37965853076936834,\n",
       "  0.3775847072614672,\n",
       "  0.37652231580536905,\n",
       "  0.3760107270640169,\n",
       "  0.37560364344139513,\n",
       "  0.3754161167128534,\n",
       "  0.3749389948851767,\n",
       "  0.3734947847500737,\n",
       "  0.37285277375552717,\n",
       "  0.37281528044894646,\n",
       "  0.37122873835606246,\n",
       "  0.37069677417833374,\n",
       "  0.37086226343837897,\n",
       "  0.36925539469993224,\n",
       "  0.36834128337252187,\n",
       "  0.36681201336710806,\n",
       "  0.3677851426224257,\n",
       "  0.3668879936887682,\n",
       "  0.3661759597467286,\n",
       "  0.3655593686850187,\n",
       "  0.36490704261314644,\n",
       "  0.3645026061504565,\n",
       "  0.3643835487553036,\n",
       "  0.3626396332388389,\n",
       "  0.3640322978167039,\n",
       "  0.3631247219815963,\n",
       "  0.3610100396927147,\n",
       "  0.36010634433562705,\n",
       "  0.36083745051884775,\n",
       "  0.3602887659795783],\n",
       " 'val_mae': [0.6784195,\n",
       "  0.58674634,\n",
       "  0.5652481,\n",
       "  0.55349684,\n",
       "  0.54438484,\n",
       "  0.5320488,\n",
       "  0.52669626,\n",
       "  0.52736026,\n",
       "  0.5171326,\n",
       "  0.5155174,\n",
       "  0.51433676,\n",
       "  0.50926113,\n",
       "  0.5064971,\n",
       "  0.50573075,\n",
       "  0.50343,\n",
       "  0.5000202,\n",
       "  0.49759275,\n",
       "  0.49548727,\n",
       "  0.4986164,\n",
       "  0.4926881,\n",
       "  0.4927746,\n",
       "  0.48789358,\n",
       "  0.48792124,\n",
       "  0.48541313,\n",
       "  0.48259762,\n",
       "  0.4806892,\n",
       "  0.48000783,\n",
       "  0.48104784,\n",
       "  0.47646075,\n",
       "  0.4765029,\n",
       "  0.47491652,\n",
       "  0.47405016,\n",
       "  0.4732607,\n",
       "  0.4731872,\n",
       "  0.4752802,\n",
       "  0.47028705,\n",
       "  0.47165295,\n",
       "  0.47170344,\n",
       "  0.46850494,\n",
       "  0.46875998,\n",
       "  0.4667825,\n",
       "  0.47270584,\n",
       "  0.46595964,\n",
       "  0.4670836,\n",
       "  0.46734995,\n",
       "  0.46099636,\n",
       "  0.46386594,\n",
       "  0.4611439,\n",
       "  0.46171135,\n",
       "  0.46368203,\n",
       "  0.4620782,\n",
       "  0.4567333,\n",
       "  0.45791513,\n",
       "  0.46029386,\n",
       "  0.45770454,\n",
       "  0.4620095,\n",
       "  0.45441392,\n",
       "  0.45796824,\n",
       "  0.45496973,\n",
       "  0.45510846,\n",
       "  0.45497966,\n",
       "  0.45272458,\n",
       "  0.45530456,\n",
       "  0.4528998,\n",
       "  0.4533711,\n",
       "  0.45246738,\n",
       "  0.45022708,\n",
       "  0.44765225,\n",
       "  0.44812799,\n",
       "  0.45103136,\n",
       "  0.4484481,\n",
       "  0.4454644,\n",
       "  0.4492822,\n",
       "  0.44639003,\n",
       "  0.44284955,\n",
       "  0.44749287,\n",
       "  0.44500852,\n",
       "  0.44343778,\n",
       "  0.44393983,\n",
       "  0.44182932,\n",
       "  0.44317204,\n",
       "  0.44280294,\n",
       "  0.438934,\n",
       "  0.44160438,\n",
       "  0.43843687,\n",
       "  0.4411093,\n",
       "  0.4405247,\n",
       "  0.43776155,\n",
       "  0.4379814,\n",
       "  0.43910694,\n",
       "  0.43499053,\n",
       "  0.43704748,\n",
       "  0.43434745,\n",
       "  0.4355404,\n",
       "  0.43509382,\n",
       "  0.431882,\n",
       "  0.43243757,\n",
       "  0.43443748,\n",
       "  0.4371336,\n",
       "  0.43392065,\n",
       "  0.43469656,\n",
       "  0.432319,\n",
       "  0.43570876,\n",
       "  0.43168724,\n",
       "  0.42792445,\n",
       "  0.4309736,\n",
       "  0.43057066,\n",
       "  0.42865995,\n",
       "  0.43077073,\n",
       "  0.43121773,\n",
       "  0.42875776,\n",
       "  0.42701828,\n",
       "  0.42572725,\n",
       "  0.4241417,\n",
       "  0.42156732,\n",
       "  0.42297053,\n",
       "  0.4243818,\n",
       "  0.4278944,\n",
       "  0.42383876,\n",
       "  0.4220221]}"
      ]
     },
     "execution_count": 29,
     "metadata": {},
     "output_type": "execute_result"
    }
   ],
   "source": [
    "model2_history.history"
   ]
  },
  {
   "cell_type": "code",
   "execution_count": 30,
   "metadata": {},
   "outputs": [
    {
     "data": {
      "image/png": "[encoded data removed]",
      "text/plain": [
       "<Figure size 576x360 with 1 Axes>"
      ]
     },
     "metadata": {
      "needs_background": "light"
     },
     "output_type": "display_data"
    }
   ],
   "source": [
    "pd.DataFrame(model_history.history).plot(figsize=(8, 5))\n",
    "plt.grid(True)\n",
    "plt.gca().set_ylim(0, 1)\n",
    "\n",
    "plt.show()"
   ]
  },
  {
   "cell_type": "code",
   "execution_count": 31,
   "metadata": {},
   "outputs": [],
   "source": [
    "x_check2 = X_test[10:14]"
   ]
  },
  {
   "cell_type": "code",
   "execution_count": 32,
   "metadata": {},
   "outputs": [],
   "source": [
    "y_pred2 = model2.predict(x_check2)"
   ]
  },
  {
   "cell_type": "code",
   "execution_count": 33,
   "metadata": {},
   "outputs": [
    {
     "name": "stdout",
     "output_type": "stream",
     "text": [
      "[[2.5893977]\n",
      " [0.6318154]\n",
      " [1.6457384]\n",
      " [1.596528 ]]\n",
      "[5.00001 0.579   1.393   1.583  ]\n"
     ]
    }
   ],
   "source": [
    "print(y_pred2)\n",
    "print(y_test[10:14])"
   ]
  },
  {
   "cell_type": "markdown",
   "metadata": {},
   "source": [
    "<h3>Saving and Restoring Models</h3>"
   ]
  },
  {
   "cell_type": "code",
   "execution_count": 34,
   "metadata": {},
   "outputs": [],
   "source": [
    "model.save(\"regression_seq_model.h5\")"
   ]
  },
  {
   "cell_type": "code",
   "execution_count": 35,
   "metadata": {},
   "outputs": [],
   "source": [
    "model2.save(\"regression_func_model.h5\")"
   ]
  },
  {
   "cell_type": "code",
   "execution_count": 36,
   "metadata": {},
   "outputs": [],
   "source": [
    "#to Check\n",
    "del model\n",
    "del model2"
   ]
  },
  {
   "cell_type": "code",
   "execution_count": 37,
   "metadata": {},
   "outputs": [],
   "source": [
    "keras.backend.clear_session()"
   ]
  },
  {
   "cell_type": "code",
   "execution_count": 38,
   "metadata": {},
   "outputs": [],
   "source": [
    "model = keras.models.load_model(\"regression_seq_model.h5\")"
   ]
  },
  {
   "cell_type": "code",
   "execution_count": 39,
   "metadata": {},
   "outputs": [
    {
     "name": "stdout",
     "output_type": "stream",
     "text": [
      "Model: \"sequential\"\n",
      "_________________________________________________________________\n",
      "Layer (type)                 Output Shape              Param #   \n",
      "=================================================================\n",
      "dense (Dense)                (None, 64)                576       \n",
      "_________________________________________________________________\n",
      "dense_1 (Dense)              (None, 32)                2080      \n",
      "_________________________________________________________________\n",
      "dense_2 (Dense)              (None, 1)                 33        \n",
      "=================================================================\n",
      "Total params: 2,689\n",
      "Trainable params: 2,689\n",
      "Non-trainable params: 0\n",
      "_________________________________________________________________\n"
     ]
    }
   ],
   "source": [
    "model.summary()"
   ]
  },
  {
   "cell_type": "code",
   "execution_count": 40,
   "metadata": {},
   "outputs": [],
   "source": [
    "y_ = model.predict(x_check)"
   ]
  },
  {
   "cell_type": "code",
   "execution_count": 41,
   "metadata": {},
   "outputs": [
    {
     "name": "stdout",
     "output_type": "stream",
     "text": [
      "[[2.5162234]\n",
      " [0.632861 ]\n",
      " [1.4569075]\n",
      " [1.3857031]]\n"
     ]
    }
   ],
   "source": [
    "print(y_)"
   ]
  },
  {
   "cell_type": "code",
   "execution_count": 42,
   "metadata": {},
   "outputs": [],
   "source": [
    "model2 = keras.models.load_model(\"regression_func_model.h5\")"
   ]
  },
  {
   "cell_type": "code",
   "execution_count": 43,
   "metadata": {},
   "outputs": [
    {
     "name": "stdout",
     "output_type": "stream",
     "text": [
      "Model: \"model\"\n",
      "__________________________________________________________________________________________________\n",
      "Layer (type)                    Output Shape         Param #     Connected to                     \n",
      "==================================================================================================\n",
      "input_1 (InputLayer)            [(None, 8)]          0                                            \n",
      "__________________________________________________________________________________________________\n",
      "dense_3 (Dense)                 (None, 32)           288         input_1[0][0]                    \n",
      "__________________________________________________________________________________________________\n",
      "dense_4 (Dense)                 (None, 32)           1056        dense_3[0][0]                    \n",
      "__________________________________________________________________________________________________\n",
      "concatenate (Concatenate)       (None, 40)           0           input_1[0][0]                    \n",
      "                                                                 dense_4[0][0]                    \n",
      "__________________________________________________________________________________________________\n",
      "dense_5 (Dense)                 (None, 1)            41          concatenate[0][0]                \n",
      "==================================================================================================\n",
      "Total params: 1,385\n",
      "Trainable params: 1,385\n",
      "Non-trainable params: 0\n",
      "__________________________________________________________________________________________________\n"
     ]
    }
   ],
   "source": [
    "model2.summary()"
   ]
  },
  {
   "cell_type": "code",
   "execution_count": 44,
   "metadata": {},
   "outputs": [
    {
     "name": "stdout",
     "output_type": "stream",
     "text": [
      "[[2.5893977]\n",
      " [0.6318154]\n",
      " [1.6457384]\n",
      " [1.596528 ]]\n"
     ]
    }
   ],
   "source": [
    "y__ = model2.predict(x_check)\n",
    "print(y__)"
   ]
  },
  {
   "cell_type": "markdown",
   "metadata": {},
   "source": [
    "<h3>Using Callbacks while training</h3>\n",
    "<h4> creating checkpoints based on epochs </h4>"
   ]
  },
  {
   "cell_type": "code",
   "execution_count": 45,
   "metadata": {},
   "outputs": [],
   "source": [
    "# we will execute above regression sequential approach again using callbacks for creating checkpoints\n",
    "keras.backend.clear_session()"
   ]
  },
  {
   "cell_type": "code",
   "execution_count": 46,
   "metadata": {},
   "outputs": [],
   "source": [
    "np.random.seed(32)\n",
    "tf.random.set_seed(32)"
   ]
  },
  {
   "cell_type": "code",
   "execution_count": 47,
   "metadata": {},
   "outputs": [],
   "source": [
    "model = keras.models.Sequential()\n",
    "model.add(keras.layers.Dense(64,activation=\"relu\",input_shape=X_train.shape[1:]))\n",
    "model.add(keras.layers.Dense(32,activation=\"relu\"))\n",
    "model.add(keras.layers.Dense(1))"
   ]
  },
  {
   "cell_type": "code",
   "execution_count": 48,
   "metadata": {},
   "outputs": [],
   "source": [
    "model.compile(loss=\"mse\",optimizer=\"sgd\",metrics=['mae'])"
   ]
  },
  {
   "cell_type": "code",
   "execution_count": 49,
   "metadata": {},
   "outputs": [],
   "source": [
    "checkpoint_callback = keras.callbacks.ModelCheckpoint(\"checkpoints_regression/Model-{epoch:02d}.h5\")\n",
    "#this will create checkpoint for each epoch and save it under hdf5 file with name \"model-{epoch_count}\" Ex: model-5.h5\n",
    "#{epoch:02d} -> if maximum number of epochs count is two digits ...if count is three digits save it as {epoch:03d}"
   ]
  },
  {
   "cell_type": "code",
   "execution_count": 50,
   "metadata": {},
   "outputs": [],
   "source": [
    "checkpoint_cb2 = keras.callbacks.ModelCheckpoint(\"checkpoints_regression/Model_ovw.h5\")\n",
    "# this overwrites the model for every epoch it runs"
   ]
  },
  {
   "cell_type": "code",
   "execution_count": 51,
   "metadata": {},
   "outputs": [
    {
     "name": "stdout",
     "output_type": "stream",
     "text": [
      "Train on 13209 samples, validate on 3303 samples\n",
      "Epoch 1/10\n",
      "13209/13209 [==============================] - 4s 292us/sample - loss: 0.7283 - mae: 0.5889 - val_loss: 0.4660 - val_mae: 0.4977\n",
      "Epoch 2/10\n",
      "13209/13209 [==============================] - 3s 233us/sample - loss: 0.4535 - mae: 0.4855 - val_loss: 0.4244 - val_mae: 0.4604\n",
      "Epoch 3/10\n",
      "13209/13209 [==============================] - 3s 224us/sample - loss: 0.4264 - mae: 0.4678 - val_loss: 0.4053 - val_mae: 0.4622\n",
      "Epoch 4/10\n",
      "13209/13209 [==============================] - 3s 190us/sample - loss: 0.4089 - mae: 0.4560 - val_loss: 0.4033 - val_mae: 0.4494\n",
      "Epoch 5/10\n",
      "13209/13209 [==============================] - 3s 221us/sample - loss: 0.3972 - mae: 0.4483 - val_loss: 0.3890 - val_mae: 0.4626\n",
      "Epoch 6/10\n",
      "13209/13209 [==============================] - 3s 253us/sample - loss: 0.3850 - mae: 0.4399 - val_loss: 0.3689 - val_mae: 0.4387\n",
      "Epoch 7/10\n",
      "13209/13209 [==============================] - 3s 210us/sample - loss: 0.3753 - mae: 0.4335 - val_loss: 0.3726 - val_mae: 0.4242\n",
      "Epoch 8/10\n",
      "13209/13209 [==============================] - 4s 308us/sample - loss: 0.3679 - mae: 0.4286 - val_loss: 0.3563 - val_mae: 0.4357\n",
      "Epoch 9/10\n",
      "13209/13209 [==============================] - 4s 303us/sample - loss: 0.3599 - mae: 0.4241 - val_loss: 0.3545 - val_mae: 0.4356\n",
      "Epoch 10/10\n",
      "13209/13209 [==============================] - 4s 282us/sample - loss: 0.3551 - mae: 0.4212 - val_loss: 0.3394 - val_mae: 0.4124\n"
     ]
    }
   ],
   "source": [
    "model_his = model.fit(X_train,y_train,epochs=10,validation_data=(X_valid,y_valid),callbacks=[checkpoint_callback])"
   ]
  },
  {
   "cell_type": "code",
   "execution_count": 52,
   "metadata": {},
   "outputs": [
    {
     "name": "stdout",
     "output_type": "stream",
     "text": [
      "Train on 13209 samples, validate on 3303 samples\n",
      "Epoch 1/15\n",
      "13209/13209 [==============================] - 3s 207us/sample - loss: 0.3500 - mae: 0.4174 - val_loss: 0.3429 - val_mae: 0.4207\n",
      "Epoch 2/15\n",
      "13209/13209 [==============================] - 3s 197us/sample - loss: 0.3454 - mae: 0.4129 - val_loss: 0.3413 - val_mae: 0.4040\n",
      "Epoch 3/15\n",
      "13209/13209 [==============================] - 3s 229us/sample - loss: 0.3400 - mae: 0.4105 - val_loss: 0.3376 - val_mae: 0.4260\n",
      "Epoch 4/15\n",
      "13209/13209 [==============================] - 2s 182us/sample - loss: 0.3372 - mae: 0.4076 - val_loss: 0.3303 - val_mae: 0.4046 - loss: 0\n",
      "Epoch 5/15\n",
      "13209/13209 [==============================] - 3s 196us/sample - loss: 0.3347 - mae: 0.4053 - val_loss: 0.3381 - val_mae: 0.4316\n",
      "Epoch 6/15\n",
      "13209/13209 [==============================] - 3s 216us/sample - loss: 0.3311 - mae: 0.4032 - val_loss: 0.3201 - val_mae: 0.4071\n",
      "Epoch 7/15\n",
      "13209/13209 [==============================] - 2s 172us/sample - loss: 0.3265 - mae: 0.4001 - val_loss: 0.3251 - val_mae: 0.3935\n",
      "Epoch 8/15\n",
      "13209/13209 [==============================] - 2s 175us/sample - loss: 0.3261 - mae: 0.3979 - val_loss: 0.3189 - val_mae: 0.4107\n",
      "Epoch 9/15\n",
      "13209/13209 [==============================] - 2s 177us/sample - loss: 0.3211 - mae: 0.3960 - val_loss: 0.3251 - val_mae: 0.4160\n",
      "Epoch 10/15\n",
      "13209/13209 [==============================] - 3s 193us/sample - loss: 0.3194 - mae: 0.3948 - val_loss: 0.3082 - val_mae: 0.3936\n",
      "Epoch 11/15\n",
      "13209/13209 [==============================] - 3s 256us/sample - loss: 0.3167 - mae: 0.3915 - val_loss: 0.3535 - val_mae: 0.4030\n",
      "Epoch 12/15\n",
      "13209/13209 [==============================] - 4s 304us/sample - loss: 0.3173 - mae: 0.3925 - val_loss: 0.3084 - val_mae: 0.3887\n",
      "Epoch 13/15\n",
      "13209/13209 [==============================] - 3s 212us/sample - loss: 0.3185 - mae: 0.3908 - val_loss: 0.3191 - val_mae: 0.3918\n",
      "Epoch 14/15\n",
      "13209/13209 [==============================] - 3s 225us/sample - loss: 0.3132 - mae: 0.3898 - val_loss: 0.3054 - val_mae: 0.3902\n",
      "Epoch 15/15\n",
      "13209/13209 [==============================] - 3s 230us/sample - loss: 0.3183 - mae: 0.3900 - val_loss: 0.3062 - val_mae: 0.3897\n"
     ]
    }
   ],
   "source": [
    "model_his_ = model.fit(X_train,y_train,epochs=15,validation_data=(X_valid,y_valid),callbacks=[checkpoint_cb2])"
   ]
  },
  {
   "cell_type": "code",
   "execution_count": 53,
   "metadata": {},
   "outputs": [],
   "source": [
    "del model\n",
    "keras.backend.clear_session()"
   ]
  },
  {
   "cell_type": "code",
   "execution_count": 54,
   "metadata": {},
   "outputs": [],
   "source": [
    "model = keras.models.load_model(\"checkpoints_regression/Model-10.h5\")"
   ]
  },
  {
   "cell_type": "code",
   "execution_count": 55,
   "metadata": {},
   "outputs": [
    {
     "name": "stdout",
     "output_type": "stream",
     "text": [
      "4128/4128 [==============================] - 1s 125us/sample - loss: 0.3430 - mae: 0.4120\n"
     ]
    },
    {
     "data": {
      "text/plain": [
       "[0.342961872790673, 0.41203877]"
      ]
     },
     "execution_count": 55,
     "metadata": {},
     "output_type": "execute_result"
    }
   ],
   "source": [
    "model.evaluate(X_test,y_test)"
   ]
  },
  {
   "cell_type": "code",
   "execution_count": 56,
   "metadata": {},
   "outputs": [],
   "source": [
    "model = keras.models.load_model(\"checkpoints_regression/Model_ovw.h5\")"
   ]
  },
  {
   "cell_type": "code",
   "execution_count": 57,
   "metadata": {},
   "outputs": [
    {
     "name": "stdout",
     "output_type": "stream",
     "text": [
      "4128/4128 [==============================] - 0s 116us/sample - loss: 0.3165 - mae: 0.3916\n"
     ]
    },
    {
     "data": {
      "text/plain": [
       "[0.3164517722966135, 0.39156318]"
      ]
     },
     "execution_count": 57,
     "metadata": {},
     "output_type": "execute_result"
    }
   ],
   "source": [
    "model.evaluate(X_test,y_test)"
   ]
  },
  {
   "cell_type": "markdown",
   "metadata": {},
   "source": [
    "<h3> Saving only best model </h3>\n",
    "\n",
    "while training, it keeps track of the best results (i.e..min loss and error in regression) and saves model corresponding to a epoch that generates min loss and error."
   ]
  },
  {
   "cell_type": "code",
   "execution_count": 58,
   "metadata": {},
   "outputs": [],
   "source": [
    "del model\n",
    "keras.backend.clear_session()"
   ]
  },
  {
   "cell_type": "code",
   "execution_count": 59,
   "metadata": {},
   "outputs": [],
   "source": [
    "np.random.seed(32)\n",
    "tf.random.set_seed(32)"
   ]
  },
  {
   "cell_type": "code",
   "execution_count": 60,
   "metadata": {},
   "outputs": [],
   "source": [
    "model = keras.models.Sequential()\n",
    "model.add(keras.layers.Dense(64,activation=\"relu\",input_shape=X_train.shape[1:]))\n",
    "model.add(keras.layers.Dense(32,activation=\"relu\"))\n",
    "model.add(keras.layers.Dense(1))"
   ]
  },
  {
   "cell_type": "code",
   "execution_count": 61,
   "metadata": {},
   "outputs": [],
   "source": [
    "model.compile(loss=\"mse\",optimizer=\"sgd\",metrics=['mae'])"
   ]
  },
  {
   "cell_type": "code",
   "execution_count": 62,
   "metadata": {},
   "outputs": [],
   "source": [
    "checkpoint_best = keras.callbacks.ModelCheckpoint(\"checkpoints_regression/Best_Model.h5\",save_best_only=True)"
   ]
  },
  {
   "cell_type": "code",
   "execution_count": 63,
   "metadata": {},
   "outputs": [
    {
     "name": "stdout",
     "output_type": "stream",
     "text": [
      "Train on 13209 samples, validate on 3303 samples\n",
      "Epoch 1/30\n",
      "13209/13209 [==============================] - 5s 366us/sample - loss: 0.7283 - mae: 0.5889 - val_loss: 0.4660 - val_mae: 0.4977\n",
      "Epoch 2/30\n",
      "13209/13209 [==============================] - 5s 350us/sample - loss: 0.4535 - mae: 0.4855 - val_loss: 0.4244 - val_mae: 0.4604\n",
      "Epoch 3/30\n",
      "13209/13209 [==============================] - 4s 325us/sample - loss: 0.4264 - mae: 0.4678 - val_loss: 0.4053 - val_mae: 0.4622\n",
      "Epoch 4/30\n",
      "13209/13209 [==============================] - 5s 389us/sample - loss: 0.4089 - mae: 0.4560 - val_loss: 0.4033 - val_mae: 0.4494\n",
      "Epoch 5/30\n",
      "13209/13209 [==============================] - 4s 326us/sample - loss: 0.3972 - mae: 0.4483 - val_loss: 0.3890 - val_mae: 0.4626\n",
      "Epoch 6/30\n",
      "13209/13209 [==============================] - 3s 212us/sample - loss: 0.3850 - mae: 0.4399 - val_loss: 0.3689 - val_mae: 0.4387\n",
      "Epoch 7/30\n",
      "13209/13209 [==============================] - 3s 210us/sample - loss: 0.3753 - mae: 0.4335 - val_loss: 0.3726 - val_mae: 0.4242\n",
      "Epoch 8/30\n",
      "13209/13209 [==============================] - 3s 236us/sample - loss: 0.3679 - mae: 0.4286 - val_loss: 0.3563 - val_mae: 0.4357\n",
      "Epoch 9/30\n",
      "13209/13209 [==============================] - 3s 220us/sample - loss: 0.3599 - mae: 0.4241 - val_loss: 0.3545 - val_mae: 0.4356\n",
      "Epoch 10/30\n",
      "13209/13209 [==============================] - 3s 199us/sample - loss: 0.3551 - mae: 0.4212 - val_loss: 0.3394 - val_mae: 0.4124\n",
      "Epoch 11/30\n",
      "13209/13209 [==============================] - 3s 248us/sample - loss: 0.3490 - mae: 0.4157 - val_loss: 0.3719 - val_mae: 0.4200\n",
      "Epoch 12/30\n",
      "13209/13209 [==============================] - 3s 241us/sample - loss: 0.3465 - mae: 0.4152 - val_loss: 0.3318 - val_mae: 0.4074\n",
      "Epoch 13/30\n",
      "13209/13209 [==============================] - 3s 239us/sample - loss: 0.3448 - mae: 0.4118 - val_loss: 0.3391 - val_mae: 0.4082\n",
      "Epoch 14/30\n",
      "13209/13209 [==============================] - 3s 264us/sample - loss: 0.3401 - mae: 0.4094 - val_loss: 0.3252 - val_mae: 0.4079\n",
      "Epoch 15/30\n",
      "13209/13209 [==============================] - 4s 299us/sample - loss: 0.3349 - mae: 0.4057 - val_loss: 0.3296 - val_mae: 0.4078\n",
      "Epoch 16/30\n",
      "13209/13209 [==============================] - 4s 302us/sample - loss: 0.3300 - mae: 0.4028 - val_loss: 0.3160 - val_mae: 0.3956\n",
      "Epoch 17/30\n",
      "13209/13209 [==============================] - 4s 283us/sample - loss: 0.3281 - mae: 0.3998 - val_loss: 0.3228 - val_mae: 0.4026\n",
      "Epoch 18/30\n",
      "13209/13209 [==============================] - 3s 221us/sample - loss: 0.3242 - mae: 0.3983 - val_loss: 0.3126 - val_mae: 0.3940\n",
      "Epoch 19/30\n",
      "13209/13209 [==============================] - 3s 262us/sample - loss: 0.3226 - mae: 0.3963 - val_loss: 0.3131 - val_mae: 0.3983\n",
      "Epoch 20/30\n",
      "13209/13209 [==============================] - 4s 339us/sample - loss: 0.3203 - mae: 0.3937 - val_loss: 0.3466 - val_mae: 0.4209\n",
      "Epoch 21/30\n",
      "13209/13209 [==============================] - 5s 378us/sample - loss: 0.3176 - mae: 0.3921 - val_loss: 0.3278 - val_mae: 0.3907\n",
      "Epoch 22/30\n",
      "13209/13209 [==============================] - 4s 296us/sample - loss: 0.3139 - mae: 0.3903 - val_loss: 0.3072 - val_mae: 0.3899\n",
      "Epoch 23/30\n",
      "13209/13209 [==============================] - 4s 269us/sample - loss: 0.3125 - mae: 0.3890 - val_loss: 0.3071 - val_mae: 0.3899\n",
      "Epoch 24/30\n",
      "13209/13209 [==============================] - 3s 229us/sample - loss: 0.3139 - mae: 0.3898 - val_loss: 0.3080 - val_mae: 0.3910\n",
      "Epoch 25/30\n",
      "13209/13209 [==============================] - 4s 303us/sample - loss: 0.3131 - mae: 0.3878 - val_loss: 0.3034 - val_mae: 0.3924\n",
      "Epoch 26/30\n",
      "13209/13209 [==============================] - 4s 280us/sample - loss: 0.3084 - mae: 0.3866 - val_loss: 0.3025 - val_mae: 0.3875\n",
      "Epoch 27/30\n",
      "13209/13209 [==============================] - 3s 260us/sample - loss: 0.3111 - mae: 0.3860 - val_loss: 0.3151 - val_mae: 0.3873\n",
      "Epoch 28/30\n",
      "13209/13209 [==============================] - 4s 311us/sample - loss: 0.3072 - mae: 0.3851 - val_loss: 0.3243 - val_mae: 0.3988\n",
      "Epoch 29/30\n",
      "13209/13209 [==============================] - 5s 415us/sample - loss: 0.3035 - mae: 0.3825 - val_loss: 0.3008 - val_mae: 0.3886\n",
      "Epoch 30/30\n",
      "13209/13209 [==============================] - 6s 461us/sample - loss: 0.3042 - mae: 0.3826 - val_loss: 0.3063 - val_mae: 0.3922\n"
     ]
    }
   ],
   "source": [
    "model_his = model.fit(X_train,y_train,epochs=30,validation_data=(X_valid,y_valid),callbacks=[checkpoint_best])"
   ]
  },
  {
   "cell_type": "code",
   "execution_count": 64,
   "metadata": {},
   "outputs": [],
   "source": [
    "del model\n",
    "keras.backend.clear_session()"
   ]
  },
  {
   "cell_type": "code",
   "execution_count": 65,
   "metadata": {},
   "outputs": [],
   "source": [
    "model = keras.models.load_model(\"checkpoints_regression/Best_Model.h5\")"
   ]
  },
  {
   "cell_type": "code",
   "execution_count": 66,
   "metadata": {},
   "outputs": [
    {
     "name": "stdout",
     "output_type": "stream",
     "text": [
      "4128/4128 [==============================] - 1s 302us/sample - loss: 0.3079 - mae: 0.3861\n"
     ]
    },
    {
     "data": {
      "text/plain": [
       "[0.307900907341824, 0.38607842]"
      ]
     },
     "execution_count": 66,
     "metadata": {},
     "output_type": "execute_result"
    }
   ],
   "source": [
    "model.evaluate(X_test,y_test)"
   ]
  },
  {
   "cell_type": "markdown",
   "metadata": {},
   "source": [
    "<h3>Early Stop model </h3>\n",
    "While training, along with keeping track of the best model, it also checks whether there is an improvement in the training after waiting for certain number of epochs(patience)."
   ]
  },
  {
   "cell_type": "code",
   "execution_count": 67,
   "metadata": {},
   "outputs": [],
   "source": [
    "del model\n",
    "keras.backend.clear_session()"
   ]
  },
  {
   "cell_type": "code",
   "execution_count": 68,
   "metadata": {},
   "outputs": [],
   "source": [
    "np.random.seed(32)\n",
    "tf.random.set_seed(32)"
   ]
  },
  {
   "cell_type": "code",
   "execution_count": 80,
   "metadata": {},
   "outputs": [],
   "source": [
    "model = keras.models.Sequential()\n",
    "model.add(keras.layers.Dense(64,activation=\"relu\",input_shape=X_train.shape[1:]))\n",
    "model.add(keras.layers.Dense(32,activation=\"relu\"))\n",
    "model.add(keras.layers.Dense(1))"
   ]
  },
  {
   "cell_type": "code",
   "execution_count": 81,
   "metadata": {},
   "outputs": [],
   "source": [
    "model.compile(loss=\"mse\",optimizer=\"sgd\",metrics=['mae'])"
   ]
  },
  {
   "cell_type": "code",
   "execution_count": 82,
   "metadata": {},
   "outputs": [],
   "source": [
    "checkpoint_early_stop = keras.callbacks.ModelCheckpoint(\"checkpoints_regression/Early_Stop_Model.h5\",save_best_only=True)"
   ]
  },
  {
   "cell_type": "code",
   "execution_count": 83,
   "metadata": {},
   "outputs": [],
   "source": [
    "early_stopping_cb = keras.callbacks.EarlyStopping(patience=10,restore_best_weights=True)\n",
    "#patience - Number of epochs with no improvement after which trainging will be stopped"
   ]
  },
  {
   "cell_type": "code",
   "execution_count": 84,
   "metadata": {},
   "outputs": [
    {
     "name": "stdout",
     "output_type": "stream",
     "text": [
      "Train on 13209 samples, validate on 3303 samples\n",
      "Epoch 1/200\n",
      "13209/13209 [==============================] - 2s 149us/sample - loss: 1.0373 - mae: 0.6276 - val_loss: 0.5195 - val_mae: 0.5284\n",
      "Epoch 2/200\n",
      "13209/13209 [==============================] - 2s 116us/sample - loss: 0.5378 - mae: 0.5048 - val_loss: 0.4250 - val_mae: 0.4602\n",
      "Epoch 3/200\n",
      "13209/13209 [==============================] - 2s 120us/sample - loss: 0.4464 - mae: 0.4682 - val_loss: 0.4212 - val_mae: 0.4638\n",
      "Epoch 4/200\n",
      "13209/13209 [==============================] - 2s 119us/sample - loss: 0.4093 - mae: 0.4537 - val_loss: 0.4002 - val_mae: 0.4457\n",
      "Epoch 5/200\n",
      "13209/13209 [==============================] - 2s 168us/sample - loss: 0.3941 - mae: 0.4451 - val_loss: 0.3819 - val_mae: 0.4564\n",
      "Epoch 6/200\n",
      "13209/13209 [==============================] - 2s 131us/sample - loss: 0.3877 - mae: 0.4405 - val_loss: 0.3625 - val_mae: 0.4345\n",
      "Epoch 7/200\n",
      "13209/13209 [==============================] - 2s 115us/sample - loss: 0.3759 - mae: 0.4336 - val_loss: 0.3672 - val_mae: 0.4201\n",
      "Epoch 8/200\n",
      "13209/13209 [==============================] - 1s 87us/sample - loss: 0.3705 - mae: 0.4299 - val_loss: 0.3492 - val_mae: 0.4297\n",
      "Epoch 9/200\n",
      "13209/13209 [==============================] - 1s 80us/sample - loss: 0.3628 - mae: 0.4252 - val_loss: 0.3504 - val_mae: 0.4346\n",
      "Epoch 10/200\n",
      "13209/13209 [==============================] - 1s 79us/sample - loss: 0.3578 - mae: 0.4223 - val_loss: 0.3378 - val_mae: 0.4125\n",
      "Epoch 11/200\n",
      "13209/13209 [==============================] - 1s 100us/sample - loss: 0.3523 - mae: 0.4184 - val_loss: 0.3627 - val_mae: 0.4167\n",
      "Epoch 12/200\n",
      "13209/13209 [==============================] - 2s 135us/sample - loss: 0.3497 - mae: 0.4169 - val_loss: 0.3301 - val_mae: 0.4073\n",
      "Epoch 13/200\n",
      "13209/13209 [==============================] - 1s 102us/sample - loss: 0.3476 - mae: 0.4153 - val_loss: 0.3278 - val_mae: 0.4065\n",
      "Epoch 14/200\n",
      "13209/13209 [==============================] - 2s 118us/sample - loss: 0.3413 - mae: 0.4115 - val_loss: 0.3242 - val_mae: 0.4093\n",
      "Epoch 15/200\n",
      "13209/13209 [==============================] - 2s 121us/sample - loss: 0.3367 - mae: 0.4089 - val_loss: 0.3257 - val_mae: 0.4091\n",
      "Epoch 16/200\n",
      "13209/13209 [==============================] - 2s 126us/sample - loss: 0.3335 - mae: 0.4066 - val_loss: 0.3199 - val_mae: 0.3955\n",
      "Epoch 17/200\n",
      "13209/13209 [==============================] - 1s 87us/sample - loss: 0.3313 - mae: 0.4036 - val_loss: 0.3288 - val_mae: 0.4088\n",
      "Epoch 18/200\n",
      "13209/13209 [==============================] - 1s 111us/sample - loss: 0.3280 - mae: 0.4018 - val_loss: 0.3140 - val_mae: 0.3976\n",
      "Epoch 19/200\n",
      "13209/13209 [==============================] - 2s 144us/sample - loss: 0.3259 - mae: 0.4001 - val_loss: 0.3137 - val_mae: 0.4034\n",
      "Epoch 20/200\n",
      "13209/13209 [==============================] - 1s 87us/sample - loss: 0.3231 - mae: 0.3977 - val_loss: 0.3341 - val_mae: 0.4135\n",
      "Epoch 21/200\n",
      "13209/13209 [==============================] - 1s 106us/sample - loss: 0.3205 - mae: 0.3954 - val_loss: 0.3219 - val_mae: 0.3924\n",
      "Epoch 22/200\n",
      "13209/13209 [==============================] - 1s 82us/sample - loss: 0.3167 - mae: 0.3934 - val_loss: 0.3062 - val_mae: 0.3916\n",
      "Epoch 23/200\n",
      "13209/13209 [==============================] - 2s 136us/sample - loss: 0.3143 - mae: 0.3917 - val_loss: 0.3018 - val_mae: 0.3897\n",
      "Epoch 24/200\n",
      "13209/13209 [==============================] - 1s 85us/sample - loss: 0.3145 - mae: 0.3909 - val_loss: 0.3043 - val_mae: 0.3895\n",
      "Epoch 25/200\n",
      "13209/13209 [==============================] - 1s 94us/sample - loss: 0.3134 - mae: 0.3886 - val_loss: 0.3007 - val_mae: 0.3888\n",
      "Epoch 26/200\n",
      "13209/13209 [==============================] - 1s 101us/sample - loss: 0.3090 - mae: 0.3873 - val_loss: 0.3000 - val_mae: 0.3845\n",
      "Epoch 27/200\n",
      "13209/13209 [==============================] - 1s 85us/sample - loss: 0.3068 - mae: 0.3856 - val_loss: 0.3082 - val_mae: 0.3813\n",
      "Epoch 28/200\n",
      "13209/13209 [==============================] - 1s 92us/sample - loss: 0.3054 - mae: 0.3839 - val_loss: 0.3155 - val_mae: 0.3925\n",
      "Epoch 29/200\n",
      "13209/13209 [==============================] - 1s 79us/sample - loss: 0.3039 - mae: 0.3825 - val_loss: 0.2957 - val_mae: 0.3853\n",
      "Epoch 30/200\n",
      "13209/13209 [==============================] - 2s 122us/sample - loss: 0.3033 - mae: 0.3816 - val_loss: 0.2992 - val_mae: 0.3877\n",
      "Epoch 31/200\n",
      "13209/13209 [==============================] - 1s 110us/sample - loss: 0.3007 - mae: 0.3804 - val_loss: 0.3017 - val_mae: 0.3883\n",
      "Epoch 32/200\n",
      "13209/13209 [==============================] - 3s 201us/sample - loss: 0.2999 - mae: 0.3795 - val_loss: 0.3012 - val_mae: 0.3850\n",
      "Epoch 33/200\n",
      "13209/13209 [==============================] - 2s 135us/sample - loss: 0.2980 - mae: 0.3775 - val_loss: 0.2914 - val_mae: 0.3783\n",
      "Epoch 34/200\n",
      "13209/13209 [==============================] - 2s 162us/sample - loss: 0.2985 - mae: 0.3786 - val_loss: 0.2940 - val_mae: 0.3782\n",
      "Epoch 35/200\n",
      "13209/13209 [==============================] - 2s 174us/sample - loss: 0.2962 - mae: 0.3765 - val_loss: 0.2963 - val_mae: 0.3751\n",
      "Epoch 36/200\n",
      "13209/13209 [==============================] - 1s 98us/sample - loss: 0.2960 - mae: 0.3761 - val_loss: 0.2933 - val_mae: 0.3728\n",
      "Epoch 37/200\n",
      "13209/13209 [==============================] - 1s 84us/sample - loss: 0.2939 - mae: 0.3743 - val_loss: 0.2939 - val_mae: 0.3769\n",
      "Epoch 38/200\n",
      "13209/13209 [==============================] - 2s 167us/sample - loss: 0.2944 - mae: 0.3740 - val_loss: 0.2880 - val_mae: 0.3743\n",
      "Epoch 39/200\n",
      "13209/13209 [==============================] - 2s 177us/sample - loss: 0.2928 - mae: 0.3729 - val_loss: 0.2893 - val_mae: 0.3803\n",
      "Epoch 40/200\n",
      "13209/13209 [==============================] - 4s 272us/sample - loss: 0.2944 - mae: 0.3737 - val_loss: 0.2830 - val_mae: 0.3666\n",
      "Epoch 41/200\n",
      "13209/13209 [==============================] - 2s 118us/sample - loss: 0.2918 - mae: 0.3726 - val_loss: 0.2883 - val_mae: 0.3737\n",
      "Epoch 42/200\n",
      "13209/13209 [==============================] - 2s 149us/sample - loss: 0.2902 - mae: 0.3711 - val_loss: 0.2838 - val_mae: 0.3660\n",
      "Epoch 43/200\n",
      "13209/13209 [==============================] - 1s 113us/sample - loss: 0.2897 - mae: 0.3711 - val_loss: 0.2820 - val_mae: 0.3659\n",
      "Epoch 44/200\n",
      "13209/13209 [==============================] - 1s 98us/sample - loss: 0.2900 - mae: 0.3701 - val_loss: 0.2849 - val_mae: 0.3659\n",
      "Epoch 45/200\n",
      "13209/13209 [==============================] - 1s 92us/sample - loss: 0.2865 - mae: 0.3682 - val_loss: 0.2860 - val_mae: 0.3716\n",
      "Epoch 46/200\n",
      "13209/13209 [==============================] - 1s 92us/sample - loss: 0.2864 - mae: 0.3679 - val_loss: 0.2921 - val_mae: 0.3698\n",
      "Epoch 47/200\n",
      "13209/13209 [==============================] - 1s 97us/sample - loss: 0.2841 - mae: 0.3662 - val_loss: 0.2842 - val_mae: 0.3670\n",
      "Epoch 48/200\n",
      "13209/13209 [==============================] - 1s 91us/sample - loss: 0.2852 - mae: 0.3678 - val_loss: 0.2892 - val_mae: 0.3773\n",
      "Epoch 49/200\n",
      "13209/13209 [==============================] - 1s 94us/sample - loss: 0.2835 - mae: 0.3667 - val_loss: 0.2832 - val_mae: 0.3654\n",
      "Epoch 50/200\n",
      "13209/13209 [==============================] - 2s 115us/sample - loss: 0.2839 - mae: 0.3661 - val_loss: 0.2999 - val_mae: 0.3829\n",
      "Epoch 51/200\n",
      "13209/13209 [==============================] - 2s 156us/sample - loss: 0.2831 - mae: 0.3657 - val_loss: 0.2811 - val_mae: 0.3720\n",
      "Epoch 52/200\n",
      "13209/13209 [==============================] - 3s 213us/sample - loss: 0.2825 - mae: 0.3649 - val_loss: 0.2879 - val_mae: 0.3687\n",
      "Epoch 53/200\n",
      "13209/13209 [==============================] - 2s 179us/sample - loss: 0.2817 - mae: 0.3641 - val_loss: 0.2833 - val_mae: 0.3638\n",
      "Epoch 54/200\n",
      "13209/13209 [==============================] - 1s 110us/sample - loss: 0.2805 - mae: 0.3640 - val_loss: 0.2839 - val_mae: 0.3790\n",
      "Epoch 55/200\n",
      "13209/13209 [==============================] - 1s 88us/sample - loss: 0.2806 - mae: 0.3635 - val_loss: 0.2768 - val_mae: 0.3607\n",
      "Epoch 56/200\n",
      "13209/13209 [==============================] - 1s 98us/sample - loss: 0.2786 - mae: 0.3627 - val_loss: 0.2893 - val_mae: 0.3719\n",
      "Epoch 57/200\n",
      "13209/13209 [==============================] - 1s 82us/sample - loss: 0.2794 - mae: 0.3634 - val_loss: 0.2892 - val_mae: 0.3809\n",
      "Epoch 58/200\n"
     ]
    },
    {
     "name": "stdout",
     "output_type": "stream",
     "text": [
      "13209/13209 [==============================] - 1s 108us/sample - loss: 0.2802 - mae: 0.3631 - val_loss: 0.2769 - val_mae: 0.3660\n",
      "Epoch 59/200\n",
      "13209/13209 [==============================] - 2s 137us/sample - loss: 0.2790 - mae: 0.3629 - val_loss: 0.2868 - val_mae: 0.3737\n",
      "Epoch 60/200\n",
      "13209/13209 [==============================] - 2s 121us/sample - loss: 0.2775 - mae: 0.3621 - val_loss: 0.2820 - val_mae: 0.3778\n",
      "Epoch 61/200\n",
      "13209/13209 [==============================] - 1s 96us/sample - loss: 0.2766 - mae: 0.3618 - val_loss: 0.2780 - val_mae: 0.3673\n",
      "Epoch 62/200\n",
      "13209/13209 [==============================] - 1s 105us/sample - loss: 0.2766 - mae: 0.3614 - val_loss: 0.2868 - val_mae: 0.3699\n",
      "Epoch 63/200\n",
      "13209/13209 [==============================] - 1s 100us/sample - loss: 0.2751 - mae: 0.3592 - val_loss: 0.2922 - val_mae: 0.3822\n",
      "Epoch 64/200\n",
      "13209/13209 [==============================] - 2s 183us/sample - loss: 0.2760 - mae: 0.3607 - val_loss: 0.2762 - val_mae: 0.3616\n",
      "Epoch 65/200\n",
      "13209/13209 [==============================] - 2s 189us/sample - loss: 0.2755 - mae: 0.3596 - val_loss: 0.2822 - val_mae: 0.3613\n",
      "Epoch 66/200\n",
      "13209/13209 [==============================] - 3s 199us/sample - loss: 0.2741 - mae: 0.3588 - val_loss: 0.2745 - val_mae: 0.3642\n",
      "Epoch 67/200\n",
      "13209/13209 [==============================] - 1s 92us/sample - loss: 0.2729 - mae: 0.3583 - val_loss: 0.2784 - val_mae: 0.3734\n",
      "Epoch 68/200\n",
      "13209/13209 [==============================] - 1s 97us/sample - loss: 0.2741 - mae: 0.3584 - val_loss: 0.2744 - val_mae: 0.3604\n",
      "Epoch 69/200\n",
      "13209/13209 [==============================] - 1s 109us/sample - loss: 0.2746 - mae: 0.3591 - val_loss: 0.2768 - val_mae: 0.3725\n",
      "Epoch 70/200\n",
      "13209/13209 [==============================] - 1s 92us/sample - loss: 0.2733 - mae: 0.3588 - val_loss: 0.2876 - val_mae: 0.3698\n",
      "Epoch 71/200\n",
      "13209/13209 [==============================] - 1s 107us/sample - loss: 0.2728 - mae: 0.3567 - val_loss: 0.2789 - val_mae: 0.3749\n",
      "Epoch 72/200\n",
      "13209/13209 [==============================] - 1s 93us/sample - loss: 0.2722 - mae: 0.3572 - val_loss: 0.2802 - val_mae: 0.3733\n",
      "Epoch 73/200\n",
      "13209/13209 [==============================] - 1s 102us/sample - loss: 0.2733 - mae: 0.3588 - val_loss: 0.2712 - val_mae: 0.3586\n",
      "Epoch 74/200\n",
      "13209/13209 [==============================] - 1s 99us/sample - loss: 0.2717 - mae: 0.3573 - val_loss: 0.2715 - val_mae: 0.3592\n",
      "Epoch 75/200\n",
      "13209/13209 [==============================] - 2s 129us/sample - loss: 0.2700 - mae: 0.3546 - val_loss: 0.2721 - val_mae: 0.3578\n",
      "Epoch 76/200\n",
      "13209/13209 [==============================] - 2s 150us/sample - loss: 0.2709 - mae: 0.3570 - val_loss: 0.2766 - val_mae: 0.3604\n",
      "Epoch 77/200\n",
      "13209/13209 [==============================] - 2s 130us/sample - loss: 0.2695 - mae: 0.3551 - val_loss: 0.2810 - val_mae: 0.3782\n",
      "Epoch 78/200\n",
      "13209/13209 [==============================] - 1s 112us/sample - loss: 0.2708 - mae: 0.3568 - val_loss: 0.2799 - val_mae: 0.3627\n",
      "Epoch 79/200\n",
      "13209/13209 [==============================] - 2s 127us/sample - loss: 0.2694 - mae: 0.3555 - val_loss: 0.2768 - val_mae: 0.3692\n",
      "Epoch 80/200\n",
      "13209/13209 [==============================] - 2s 122us/sample - loss: 0.2691 - mae: 0.3560 - val_loss: 0.2719 - val_mae: 0.3639\n",
      "Epoch 81/200\n",
      "13209/13209 [==============================] - 2s 114us/sample - loss: 0.2688 - mae: 0.3554 - val_loss: 0.2713 - val_mae: 0.3617\n",
      "Epoch 82/200\n",
      "13209/13209 [==============================] - 2s 173us/sample - loss: 0.2687 - mae: 0.3534 - val_loss: 0.2719 - val_mae: 0.3580\n",
      "Epoch 83/200\n",
      "13209/13209 [==============================] - 2s 154us/sample - loss: 0.2676 - mae: 0.3547 - val_loss: 0.2809 - val_mae: 0.3612\n"
     ]
    }
   ],
   "source": [
    "model_hiss = model.fit(X_train,y_train,epochs=200,validation_data=(X_valid,y_valid),callbacks=[checkpoint_early_stop, early_stopping_cb])"
   ]
  },
  {
   "cell_type": "code",
   "execution_count": 85,
   "metadata": {},
   "outputs": [],
   "source": [
    "# We can see that training is stopped at 83rd epoch since 73rd epoch result is better than 83rd"
   ]
  },
  {
   "cell_type": "code",
   "execution_count": 86,
   "metadata": {},
   "outputs": [],
   "source": [
    "del model\n",
    "keras.backend.clear_session()"
   ]
  },
  {
   "cell_type": "code",
   "execution_count": 87,
   "metadata": {},
   "outputs": [],
   "source": [
    "early_stop_model = keras.models.load_model(\"checkpoints_regression/Early_Stop_Model.h5\")"
   ]
  },
  {
   "cell_type": "code",
   "execution_count": 88,
   "metadata": {},
   "outputs": [
    {
     "name": "stdout",
     "output_type": "stream",
     "text": [
      "4128/4128 [==============================] - 1s 227us/sample - loss: 0.2768 - mae: 0.3589\n"
     ]
    },
    {
     "data": {
      "text/plain": [
       "[0.27676930642405223, 0.3588598]"
      ]
     },
     "execution_count": 88,
     "metadata": {},
     "output_type": "execute_result"
    }
   ],
   "source": [
    "early_stop_model.evaluate(X_test,y_test)"
   ]
  }
 ],
 "metadata": {
  "kernelspec": {
   "display_name": "Python 3",
   "language": "python",
   "name": "python3"
  },
  "language_info": {
   "codemirror_mode": {
    "name": "ipython",
    "version": 3
   },
   "file_extension": ".py",
   "mimetype": "text/x-python",
   "name": "python",
   "nbconvert_exporter": "python",
   "pygments_lexer": "ipython3",
   "version": "3.7.6"
  }
 },
 "nbformat": 4,
 "nbformat_minor": 4
}
